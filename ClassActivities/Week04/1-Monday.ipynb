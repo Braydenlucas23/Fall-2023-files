{
  "cells": [
    {
      "cell_type": "markdown",
      "metadata": {},
      "source": [
        "# Monday, September 11\n",
        "## Announcements and Reminders\n",
        "- Chapter 5 Reading due today, but definitely by Wednesday\n",
        "- Programming Assignment 2: Available soon, due next Monday\n",
        "\n",
        "## Questions:"
      ]
    },
    {
      "cell_type": "markdown",
      "metadata": {},
      "source": []
    },
    {
      "cell_type": "markdown",
      "metadata": {
        "id": "rPcP5eWXAO1Y"
      },
      "source": [
        "## Activity: Turtles, Geometry, and Fractals\n",
        "\n",
        "We will continue using the python turtle to get visual feedback on how functions work.\n",
        "\n",
        "Our goal for today is to produce shapes like the following, without writing hundreds of lines of code.\n"
      ]
    },
    {
      "cell_type": "markdown",
      "metadata": {},
      "source": [
        "<!-- ![Spiral](spiral.png) -->\n",
        "<div>\n",
        "<img src=\"spiral.png\" width=\"800\"/>\n",
        "</div>"
      ]
    },
    {
      "cell_type": "markdown",
      "metadata": {
        "id": "u4mMqfI6ueCr"
      },
      "source": [
        "**Important**: I have found a better turtle module called `ColabTurtlePlus` that is easer to use than the `ipyturtle3` we were using last time.  \n",
        "\n",
        "Before you start executing any code, run the following command in the terminal:\n",
        "\n",
        "`pip install ColabTurtlePlus`\n",
        "\n",
        "Or, just execute the following cell in the notebook:"
      ]
    },
    {
      "cell_type": "code",
      "execution_count": 3,
      "metadata": {},
      "outputs": [
        {
          "name": "stdout",
          "output_type": "stream",
          "text": [
            "Requirement already satisfied: ColabTurtlePlus in /usr/local/python/3.10.8/lib/python3.10/site-packages (2.0.1)\n"
          ]
        }
      ],
      "source": [
        "!pip install ColabTurtlePlus"
      ]
    },
    {
      "cell_type": "markdown",
      "metadata": {},
      "source": [
        "We will create a turtle and screen to use throughout the activity.  Let's call our turtle \"Tracy\" this time.  Because clearly that is the best name for a turtle.  \n"
      ]
    },
    {
      "cell_type": "code",
      "execution_count": 2,
      "metadata": {},
      "outputs": [
        {
          "name": "stdout",
          "output_type": "stream",
          "text": [
            "Put clearscreen() as the first line in a cell (after the import command) to re-run turtle commands in the cell\n"
          ]
        },
        {
          "data": {
            "text/html": [
              "\n",
              "      <svg width=\"800\" height=\"600\">  \n",
              "        <rect width=\"100%\" height=\"100%\" style=\"fill:rgb(10,0,40);stroke:;stroke-width:1\"/>\n",
              "        \n",
              "        \n",
              "        \n",
              "        \n",
              "        \n",
              "        <g id=\"turtle\" visibility=\"visible\" transform=\"rotate(90,400.0,300.0) translate(400.0, 300.0)\">\n",
              "<path style=\"stroke:black;fill-rule:evenodd;fill:black;fill-opacity:1;\" transform=\"skewX(0) scale(1,1)\" d=\"m 1.1536693,-18.56101 c -2.105469,1.167969 -3.203125,3.441407 -3.140625,6.5 l 0.011719,0.519532 -0.300782,-0.15625 c -1.308594,-0.671875 -2.828125,-0.824219 -4.378906,-0.429688 -1.9375,0.484375 -3.8906253,2.089844 -6.0117193,4.9257825 -1.332031,1.785156 -1.714843,2.644531 -1.351562,3.035156 l 0.113281,0.125 h 0.363281 c 0.71875,0 1.308594,-0.265625 4.6679693,-2.113282 1.199219,-0.660156 2.183594,-1.199218 2.191406,-1.199218 0.00781,0 -0.023437,0.089844 -0.074218,0.195312 -0.472657,1.058594 -1.046876,2.785156 -1.335938,4.042969 -1.054688,4.574219 -0.351562,8.453125 2.101562,11.582031 0.28125,0.355469 0.292969,0.253906 -0.097656,0.722656 -2.046875,2.4609375 -3.027344,4.8984375 -2.734375,6.8046875 0.050781,0.339844 0.042969,0.335938 0.679688,0.335938 2.023437,0 4.15625,-1.316407 6.21875,-3.835938 0.222656,-0.269531 0.191406,-0.261719 0.425781,-0.113281 0.730469,0.46875 2.460938,1.390625 2.613281,1.390625 0.160157,0 1.765625,-0.753906 2.652344,-1.246094 0.167969,-0.09375 0.308594,-0.164062 0.308594,-0.160156 0.066406,0.105468 0.761719,0.855468 1.085937,1.171875 1.613282,1.570312 3.339844,2.402343 5.3593747,2.570312 0.324219,0.02734 0.355469,0.0078 0.425781,-0.316406 0.375,-1.742187 -0.382812,-4.058594 -2.1445307,-6.5585935 l -0.320312,-0.457031 0.15625,-0.183594 c 3.2460927,-3.824218 3.4335927,-9.08593704 0.558593,-15.816406 l -0.050781,-0.125 1.7382807,0.859375 c 3.585938,1.773437 4.371094,2.097656 5.085938,2.097656 0.945312,0 0.75,-0.863281 -0.558594,-2.507812 C 11.458356,-11.838353 8.3333563,-13.268041 4.8607003,-11.721166 l -0.363281,0.164063 0.019531,-0.09375 c 0.121094,-0.550781 0.183594,-1.800781 0.121094,-2.378907 -0.203125,-1.867187 -1.035157,-3.199218 -2.695313,-4.308593 -0.523437,-0.351563 -0.546875,-0.355469 -0.789062,-0.222657\" />\n",
              "</g>\n",
              "      </svg>\n",
              "    "
            ],
            "text/plain": [
              "<IPython.core.display.HTML object>"
            ]
          },
          "metadata": {},
          "output_type": "display_data"
        }
      ],
      "source": [
        "from ColabTurtlePlus.Turtle import *\n",
        "# Every time we want to have a new screen, we will use the following commands to create a new screen and a new turtle object:\n",
        "# Name the screen and turtle objects:\n",
        "clearscreen()\n",
        "Sandbox = Screen()\n",
        "Tracy = Turtle()\n",
        "# Set properties for Sandbox and Tracy\n",
        "Sandbox.bgcolor(10, 0, 40)\n",
        "Tracy.shape(\"turtle\")\n",
        "Tracy.color(\"orange\")"
      ]
    },
    {
      "cell_type": "markdown",
      "metadata": {},
      "source": [
        "Now let's draw a square.  First, the slow way:"
      ]
    },
    {
      "cell_type": "code",
      "execution_count": 13,
      "metadata": {},
      "outputs": [
        {
          "data": {
            "text/html": [
              "\n",
              "      <svg width=\"800\" height=\"600\">  \n",
              "        <rect width=\"100%\" height=\"100%\" style=\"fill:rgb(10,0,40);stroke:;stroke-width:1\"/>\n",
              "        \n",
              "        \n",
              "        <line x1=\"400.0\" y1=\"300.0\" x2=\"410.0\" y2=\"300.0\" stroke-linecap=\"round\" style=\"stroke:red;stroke-width:1\" /><line x1=\"410.0\" y1=\"300.0\" x2=\"419.397\" y2=\"296.58\" stroke-linecap=\"round\" style=\"stroke:red;stroke-width:1\" /><line x1=\"419.397\" y1=\"296.58\" x2=\"426.77\" y2=\"289.825\" stroke-linecap=\"round\" style=\"stroke:red;stroke-width:1\" /><line x1=\"426.77\" y1=\"289.825\" x2=\"430.603\" y2=\"280.589\" stroke-linecap=\"round\" style=\"stroke:red;stroke-width:1\" /><line x1=\"430.603\" y1=\"280.589\" x2=\"429.757\" y2=\"270.625\" stroke-linecap=\"round\" style=\"stroke:red;stroke-width:1\" /><line x1=\"429.757\" y1=\"270.625\" x2=\"424.081\" y2=\"262.392\" stroke-linecap=\"round\" style=\"stroke:red;stroke-width:1\" /><line x1=\"424.081\" y1=\"262.392\" x2=\"414.905\" y2=\"258.416\" stroke-linecap=\"round\" style=\"stroke:red;stroke-width:1\" /><line x1=\"414.905\" y1=\"258.416\" x2=\"405.078\" y2=\"260.271\" stroke-linecap=\"round\" style=\"stroke:red;stroke-width:1\" /><line x1=\"405.078\" y1=\"260.271\" x2=\"398.232\" y2=\"267.56\" stroke-linecap=\"round\" style=\"stroke:red;stroke-width:1\" /><line x1=\"398.232\" y1=\"267.56\" x2=\"397.313\" y2=\"277.518\" stroke-linecap=\"round\" style=\"stroke:red;stroke-width:1\" /><line x1=\"397.313\" y1=\"277.518\" x2=\"402.95\" y2=\"285.778\" stroke-linecap=\"round\" style=\"stroke:red;stroke-width:1\" /><line x1=\"402.95\" y1=\"285.778\" x2=\"412.625\" y2=\"288.308\" stroke-linecap=\"round\" style=\"stroke:red;stroke-width:1\" /><line x1=\"412.625\" y1=\"288.308\" x2=\"421.485\" y2=\"283.671\" stroke-linecap=\"round\" style=\"stroke:red;stroke-width:1\" /><line x1=\"421.485\" y1=\"283.671\" x2=\"424.753\" y2=\"274.22\" stroke-linecap=\"round\" style=\"stroke:red;stroke-width:1\" /><line x1=\"424.753\" y1=\"274.22\" x2=\"420.524\" y2=\"265.158\" stroke-linecap=\"round\" style=\"stroke:red;stroke-width:1\" /><line x1=\"420.524\" y1=\"265.158\" x2=\"411.148\" y2=\"261.681\" stroke-linecap=\"round\" style=\"stroke:red;stroke-width:1\" /><line x1=\"411.148\" y1=\"261.681\" x2=\"402.055\" y2=\"265.842\" stroke-linecap=\"round\" style=\"stroke:red;stroke-width:1\" /><line x1=\"402.055\" y1=\"265.842\" x2=\"398.566\" y2=\"275.214\" stroke-linecap=\"round\" style=\"stroke:red;stroke-width:1\" /><line x1=\"398.566\" y1=\"275.214\" x2=\"402.693\" y2=\"284.323\" stroke-linecap=\"round\" style=\"stroke:red;stroke-width:1\" /><line x1=\"402.693\" y1=\"284.323\" x2=\"412.011\" y2=\"287.953\" stroke-linecap=\"round\" style=\"stroke:red;stroke-width:1\" /><line x1=\"412.011\" y1=\"287.953\" x2=\"421.258\" y2=\"284.146\" stroke-linecap=\"round\" style=\"stroke:red;stroke-width:1\" /><line x1=\"421.258\" y1=\"284.146\" x2=\"425.467\" y2=\"275.075\" stroke-linecap=\"round\" style=\"stroke:red;stroke-width:1\" /><line x1=\"425.467\" y1=\"275.075\" x2=\"422.595\" y2=\"265.496\" stroke-linecap=\"round\" style=\"stroke:red;stroke-width:1\" /><line x1=\"422.595\" y1=\"265.496\" x2=\"414.218\" y2=\"260.035\" stroke-linecap=\"round\" style=\"stroke:red;stroke-width:1\" /><line x1=\"414.218\" y1=\"260.035\" x2=\"404.265\" y2=\"261.001\" stroke-linecap=\"round\" style=\"stroke:red;stroke-width:1\" /><line x1=\"404.265\" y1=\"261.001\" x2=\"396.884\" y2=\"267.748\" stroke-linecap=\"round\" style=\"stroke:red;stroke-width:1\" /><line x1=\"396.884\" y1=\"267.748\" x2=\"394.701\" y2=\"277.507\" stroke-linecap=\"round\" style=\"stroke:red;stroke-width:1\" /><line x1=\"394.701\" y1=\"277.507\" x2=\"398.167\" y2=\"286.887\" stroke-linecap=\"round\" style=\"stroke:red;stroke-width:1\" /><line x1=\"398.167\" y1=\"286.887\" x2=\"405.934\" y2=\"293.185\" stroke-linecap=\"round\" style=\"stroke:red;stroke-width:1\" /><line x1=\"405.934\" y1=\"293.185\" x2=\"415.761\" y2=\"295.035\" stroke-linecap=\"round\" style=\"stroke:red;stroke-width:1\" /><line x1=\"415.761\" y1=\"295.035\" x2=\"425.406\" y2=\"292.393\" stroke-linecap=\"round\" style=\"stroke:red;stroke-width:1\" /><line x1=\"425.406\" y1=\"292.393\" x2=\"433.194\" y2=\"286.121\" stroke-linecap=\"round\" style=\"stroke:red;stroke-width:1\" /><line x1=\"433.194\" y1=\"286.121\" x2=\"438.211\" y2=\"277.471\" stroke-linecap=\"round\" style=\"stroke:red;stroke-width:1\" /><line x1=\"438.211\" y1=\"277.471\" x2=\"440.217\" y2=\"267.674\" stroke-linecap=\"round\" style=\"stroke:red;stroke-width:1\" /><line x1=\"440.217\" y1=\"267.674\" x2=\"439.435\" y2=\"257.705\" stroke-linecap=\"round\" style=\"stroke:red;stroke-width:1\" /><line x1=\"439.435\" y1=\"257.705\" x2=\"436.329\" y2=\"248.2\" stroke-linecap=\"round\" style=\"stroke:red;stroke-width:1\" /><line x1=\"436.329\" y1=\"248.2\" x2=\"431.431\" y2=\"239.482\" stroke-linecap=\"round\" style=\"stroke:red;stroke-width:1\" /><line x1=\"431.431\" y1=\"239.482\" x2=\"425.238\" y2=\"231.63\" stroke-linecap=\"round\" style=\"stroke:red;stroke-width:1\" /><line x1=\"425.238\" y1=\"231.63\" x2=\"418.165\" y2=\"224.561\" stroke-linecap=\"round\" style=\"stroke:red;stroke-width:1\" /><line x1=\"418.165\" y1=\"224.561\" x2=\"410.536\" y2=\"218.096\" stroke-linecap=\"round\" style=\"stroke:red;stroke-width:1\" /><line x1=\"410.536\" y1=\"218.096\" x2=\"402.6\" y2=\"212.012\" stroke-linecap=\"round\" style=\"stroke:red;stroke-width:1\" /><line x1=\"402.6\" y1=\"212.012\" x2=\"394.55\" y2=\"206.079\" stroke-linecap=\"round\" style=\"stroke:red;stroke-width:1\" /><line x1=\"394.55\" y1=\"206.079\" x2=\"386.548\" y2=\"200.082\" stroke-linecap=\"round\" style=\"stroke:red;stroke-width:1\" /><line x1=\"386.548\" y1=\"200.082\" x2=\"378.737\" y2=\"193.838\" stroke-linecap=\"round\" style=\"stroke:red;stroke-width:1\" /><line x1=\"378.737\" y1=\"193.838\" x2=\"371.253\" y2=\"187.206\" stroke-linecap=\"round\" style=\"stroke:red;stroke-width:1\" /><line x1=\"371.253\" y1=\"187.206\" x2=\"364.223\" y2=\"180.094\" stroke-linecap=\"round\" style=\"stroke:red;stroke-width:1\" /><line x1=\"364.223\" y1=\"180.094\" x2=\"357.765\" y2=\"172.459\" stroke-linecap=\"round\" style=\"stroke:red;stroke-width:1\" /><line x1=\"357.765\" y1=\"172.459\" x2=\"351.974\" y2=\"164.306\" stroke-linecap=\"round\" style=\"stroke:red;stroke-width:1\" /><line x1=\"351.974\" y1=\"164.306\" x2=\"346.916\" y2=\"155.68\" stroke-linecap=\"round\" style=\"stroke:red;stroke-width:1\" /><line x1=\"346.916\" y1=\"155.68\" x2=\"342.614\" y2=\"146.653\" stroke-linecap=\"round\" style=\"stroke:red;stroke-width:1\" /><line x1=\"342.614\" y1=\"146.653\" x2=\"339.043\" y2=\"137.312\" stroke-linecap=\"round\" style=\"stroke:red;stroke-width:1\" /><line x1=\"339.043\" y1=\"137.312\" x2=\"336.128\" y2=\"127.746\" stroke-linecap=\"round\" style=\"stroke:red;stroke-width:1\" /><line x1=\"336.128\" y1=\"127.746\" x2=\"333.742\" y2=\"118.035\" stroke-linecap=\"round\" style=\"stroke:red;stroke-width:1\" /><line x1=\"333.742\" y1=\"118.035\" x2=\"331.711\" y2=\"108.243\" stroke-linecap=\"round\" style=\"stroke:red;stroke-width:1\" /><line x1=\"331.711\" y1=\"108.243\" x2=\"329.818\" y2=\"98.424\" stroke-linecap=\"round\" style=\"stroke:red;stroke-width:1\" /><line x1=\"329.818\" y1=\"98.424\" x2=\"327.809\" y2=\"88.628\" stroke-linecap=\"round\" style=\"stroke:red;stroke-width:1\" /><line x1=\"327.809\" y1=\"88.628\" x2=\"325.398\" y2=\"78.923\" stroke-linecap=\"round\" style=\"stroke:red;stroke-width:1\" /><line x1=\"325.398\" y1=\"78.923\" x2=\"322.279\" y2=\"69.422\" stroke-linecap=\"round\" style=\"stroke:red;stroke-width:1\" /><line x1=\"322.279\" y1=\"69.422\" x2=\"318.147\" y2=\"60.315\" stroke-linecap=\"round\" style=\"stroke:red;stroke-width:1\" /><line x1=\"318.147\" y1=\"60.315\" x2=\"312.732\" y2=\"51.908\" stroke-linecap=\"round\" style=\"stroke:red;stroke-width:1\" /><line x1=\"312.732\" y1=\"51.908\" x2=\"305.856\" y2=\"44.647\" stroke-linecap=\"round\" style=\"stroke:red;stroke-width:1\" /><line x1=\"305.856\" y1=\"44.647\" x2=\"297.521\" y2=\"39.121\" stroke-linecap=\"round\" style=\"stroke:red;stroke-width:1\" /><line x1=\"297.521\" y1=\"39.121\" x2=\"288.016\" y2=\"36.015\" stroke-linecap=\"round\" style=\"stroke:red;stroke-width:1\" /><line x1=\"288.016\" y1=\"36.015\" x2=\"278.016\" y2=\"35.984\" stroke-linecap=\"round\" style=\"stroke:red;stroke-width:1\" /><line x1=\"278.016\" y1=\"35.984\" x2=\"268.634\" y2=\"39.444\" stroke-linecap=\"round\" style=\"stroke:red;stroke-width:1\" /><line x1=\"268.634\" y1=\"39.444\" x2=\"261.339\" y2=\"46.284\" stroke-linecap=\"round\" style=\"stroke:red;stroke-width:1\" /><line x1=\"261.339\" y1=\"46.284\" x2=\"257.68\" y2=\"55.591\" stroke-linecap=\"round\" style=\"stroke:red;stroke-width:1\" /><line x1=\"257.68\" y1=\"55.591\" x2=\"258.782\" y2=\"65.53\" stroke-linecap=\"round\" style=\"stroke:red;stroke-width:1\" /><line x1=\"258.782\" y1=\"65.53\" x2=\"264.723\" y2=\"73.574\" stroke-linecap=\"round\" style=\"stroke:red;stroke-width:1\" /><line x1=\"264.723\" y1=\"73.574\" x2=\"274.046\" y2=\"77.19\" stroke-linecap=\"round\" style=\"stroke:red;stroke-width:1\" /><line x1=\"274.046\" y1=\"77.19\" x2=\"283.779\" y2=\"74.896\" stroke-linecap=\"round\" style=\"stroke:red;stroke-width:1\" /><line x1=\"283.779\" y1=\"74.896\" x2=\"290.249\" y2=\"67.271\" stroke-linecap=\"round\" style=\"stroke:red;stroke-width:1\" /><line x1=\"290.249\" y1=\"67.271\" x2=\"290.614\" y2=\"57.278\" stroke-linecap=\"round\" style=\"stroke:red;stroke-width:1\" /><line x1=\"290.614\" y1=\"57.278\" x2=\"284.492\" y2=\"49.371\" stroke-linecap=\"round\" style=\"stroke:red;stroke-width:1\" /><line x1=\"284.492\" y1=\"49.371\" x2=\"274.675\" y2=\"47.465\" stroke-linecap=\"round\" style=\"stroke:red;stroke-width:1\" /><line x1=\"274.675\" y1=\"47.465\" x2=\"266.147\" y2=\"52.687\" stroke-linecap=\"round\" style=\"stroke:red;stroke-width:1\" /><line x1=\"266.147\" y1=\"52.687\" x2=\"263.547\" y2=\"62.343\" stroke-linecap=\"round\" style=\"stroke:red;stroke-width:1\" /><line x1=\"263.547\" y1=\"62.343\" x2=\"268.415\" y2=\"71.078\" stroke-linecap=\"round\" style=\"stroke:red;stroke-width:1\" /><line x1=\"268.415\" y1=\"71.078\" x2=\"278.02\" y2=\"73.863\" stroke-linecap=\"round\" style=\"stroke:red;stroke-width:1\" /><line x1=\"278.02\" y1=\"73.863\" x2=\"286.783\" y2=\"69.046\" stroke-linecap=\"round\" style=\"stroke:red;stroke-width:1\" /><line x1=\"286.783\" y1=\"69.046\" x2=\"289.578\" y2=\"59.445\" stroke-linecap=\"round\" style=\"stroke:red;stroke-width:1\" /><line x1=\"289.578\" y1=\"59.445\" x2=\"284.806\" y2=\"50.657\" stroke-linecap=\"round\" style=\"stroke:red;stroke-width:1\" /><line x1=\"284.806\" y1=\"50.657\" x2=\"275.256\" y2=\"47.692\" stroke-linecap=\"round\" style=\"stroke:red;stroke-width:1\" /><line x1=\"275.256\" y1=\"47.692\" x2=\"266.289\" y2=\"52.118\" stroke-linecap=\"round\" style=\"stroke:red;stroke-width:1\" /><line x1=\"266.289\" y1=\"52.118\" x2=\"262.677\" y2=\"61.443\" stroke-linecap=\"round\" style=\"stroke:red;stroke-width:1\" /><line x1=\"262.677\" y1=\"61.443\" x2=\"266.128\" y2=\"70.829\" stroke-linecap=\"round\" style=\"stroke:red;stroke-width:1\" /><line x1=\"266.128\" y1=\"70.829\" x2=\"274.801\" y2=\"75.806\" stroke-linecap=\"round\" style=\"stroke:red;stroke-width:1\" /><line x1=\"274.801\" y1=\"75.806\" x2=\"284.691\" y2=\"74.326\" stroke-linecap=\"round\" style=\"stroke:red;stroke-width:1\" /><line x1=\"284.691\" y1=\"74.326\" x2=\"291.752\" y2=\"67.245\" stroke-linecap=\"round\" style=\"stroke:red;stroke-width:1\" /><line x1=\"291.752\" y1=\"67.245\" x2=\"293.539\" y2=\"57.406\" stroke-linecap=\"round\" style=\"stroke:red;stroke-width:1\" /><line x1=\"293.539\" y1=\"57.406\" x2=\"289.755\" y2=\"48.149\" stroke-linecap=\"round\" style=\"stroke:red;stroke-width:1\" /><line x1=\"289.755\" y1=\"48.149\" x2=\"281.818\" y2=\"42.066\" stroke-linecap=\"round\" style=\"stroke:red;stroke-width:1\" /><line x1=\"281.818\" y1=\"42.066\" x2=\"271.955\" y2=\"40.418\" stroke-linecap=\"round\" style=\"stroke:red;stroke-width:1\" /><line x1=\"271.955\" y1=\"40.418\" x2=\"262.347\" y2=\"43.189\" stroke-linecap=\"round\" style=\"stroke:red;stroke-width:1\" /><line x1=\"262.347\" y1=\"43.189\" x2=\"254.597\" y2=\"49.509\" stroke-linecap=\"round\" style=\"stroke:red;stroke-width:1\" /><line x1=\"254.597\" y1=\"49.509\" x2=\"249.569\" y2=\"58.153\" stroke-linecap=\"round\" style=\"stroke:red;stroke-width:1\" /><line x1=\"249.569\" y1=\"58.153\" x2=\"247.479\" y2=\"67.932\" stroke-linecap=\"round\" style=\"stroke:red;stroke-width:1\" /><line x1=\"247.479\" y1=\"67.932\" x2=\"248.103\" y2=\"77.912\" stroke-linecap=\"round\" style=\"stroke:red;stroke-width:1\" /><line x1=\"248.103\" y1=\"77.912\" x2=\"250.991\" y2=\"87.486\" stroke-linecap=\"round\" style=\"stroke:red;stroke-width:1\" /><line x1=\"250.991\" y1=\"87.486\" x2=\"255.628\" y2=\"96.346\" stroke-linecap=\"round\" style=\"stroke:red;stroke-width:1\" /><line x1=\"255.628\" y1=\"96.346\" x2=\"261.532\" y2=\"104.417\" stroke-linecap=\"round\" style=\"stroke:red;stroke-width:1\" /><line x1=\"261.532\" y1=\"104.417\" x2=\"268.299\" y2=\"111.78\" stroke-linecap=\"round\" style=\"stroke:red;stroke-width:1\" /><line x1=\"268.299\" y1=\"111.78\" x2=\"275.607\" y2=\"118.605\" stroke-linecap=\"round\" style=\"stroke:red;stroke-width:1\" /><line x1=\"275.607\" y1=\"118.605\" x2=\"283.207\" y2=\"125.105\" stroke-linecap=\"round\" style=\"stroke:red;stroke-width:1\" /><line x1=\"283.207\" y1=\"125.105\" x2=\"290.897\" y2=\"131.497\" stroke-linecap=\"round\" style=\"stroke:red;stroke-width:1\" /><line x1=\"290.897\" y1=\"131.497\" x2=\"298.509\" y2=\"137.982\" stroke-linecap=\"round\" style=\"stroke:red;stroke-width:1\" /><line x1=\"298.509\" y1=\"137.982\" x2=\"305.891\" y2=\"144.728\" stroke-linecap=\"round\" style=\"stroke:red;stroke-width:1\" /><line x1=\"305.891\" y1=\"144.728\" x2=\"312.901\" y2=\"151.859\" stroke-linecap=\"round\" style=\"stroke:red;stroke-width:1\" /><line x1=\"312.901\" y1=\"151.859\" x2=\"319.408\" y2=\"159.452\" stroke-linecap=\"round\" style=\"stroke:red;stroke-width:1\" /><line x1=\"319.408\" y1=\"159.452\" x2=\"325.296\" y2=\"167.535\" stroke-linecap=\"round\" style=\"stroke:red;stroke-width:1\" /><line x1=\"325.296\" y1=\"167.535\" x2=\"330.474\" y2=\"176.09\" stroke-linecap=\"round\" style=\"stroke:red;stroke-width:1\" /><line x1=\"330.474\" y1=\"176.09\" x2=\"334.887\" y2=\"185.064\" stroke-linecap=\"round\" style=\"stroke:red;stroke-width:1\" /><line x1=\"334.887\" y1=\"185.064\" x2=\"338.523\" y2=\"194.379\" stroke-linecap=\"round\" style=\"stroke:red;stroke-width:1\" /><line x1=\"338.523\" y1=\"194.379\" x2=\"341.421\" y2=\"203.95\" stroke-linecap=\"round\" style=\"stroke:red;stroke-width:1\" /><line x1=\"341.421\" y1=\"203.95\" x2=\"343.669\" y2=\"213.694\" stroke-linecap=\"round\" style=\"stroke:red;stroke-width:1\" /><line x1=\"343.669\" y1=\"213.694\" x2=\"345.407\" y2=\"223.542\" stroke-linecap=\"round\" style=\"stroke:red;stroke-width:1\" /><line x1=\"345.407\" y1=\"223.542\" x2=\"346.82\" y2=\"233.442\" stroke-linecap=\"round\" style=\"stroke:red;stroke-width:1\" /><line x1=\"346.82\" y1=\"233.442\" x2=\"348.134\" y2=\"243.355\" stroke-linecap=\"round\" style=\"stroke:red;stroke-width:1\" /><line x1=\"348.134\" y1=\"243.355\" x2=\"349.613\" y2=\"253.245\" stroke-linecap=\"round\" style=\"stroke:red;stroke-width:1\" /><line x1=\"349.613\" y1=\"253.245\" x2=\"351.549\" y2=\"263.056\" stroke-linecap=\"round\" style=\"stroke:red;stroke-width:1\" /><line x1=\"351.549\" y1=\"263.056\" x2=\"354.257\" y2=\"272.682\" stroke-linecap=\"round\" style=\"stroke:red;stroke-width:1\" /><line x1=\"354.257\" y1=\"272.682\" x2=\"358.051\" y2=\"281.934\" stroke-linecap=\"round\" style=\"stroke:red;stroke-width:1\" /><line x1=\"358.051\" y1=\"281.934\" x2=\"363.21\" y2=\"290.501\" stroke-linecap=\"round\" style=\"stroke:red;stroke-width:1\" /><line x1=\"363.21\" y1=\"290.501\" x2=\"369.914\" y2=\"297.921\" stroke-linecap=\"round\" style=\"stroke:red;stroke-width:1\" /><line x1=\"369.914\" y1=\"297.921\" x2=\"378.157\" y2=\"303.582\" stroke-linecap=\"round\" style=\"stroke:red;stroke-width:1\" /><line x1=\"378.157\" y1=\"303.582\" x2=\"387.634\" y2=\"306.775\" stroke-linecap=\"round\" style=\"stroke:red;stroke-width:1\" /><line x1=\"387.634\" y1=\"306.775\" x2=\"397.634\" y2=\"306.824\" stroke-linecap=\"round\" style=\"stroke:red;stroke-width:1\" /><line x1=\"397.634\" y1=\"306.824\" x2=\"406.997\" y2=\"303.312\" stroke-linecap=\"round\" style=\"stroke:red;stroke-width:1\" /><line x1=\"406.997\" y1=\"303.312\" x2=\"414.203\" y2=\"296.379\" stroke-linecap=\"round\" style=\"stroke:red;stroke-width:1\" /><line x1=\"414.203\" y1=\"296.379\" x2=\"417.676\" y2=\"287.001\" stroke-linecap=\"round\" style=\"stroke:red;stroke-width:1\" /><line x1=\"417.676\" y1=\"287.001\" x2=\"416.307\" y2=\"277.095\" stroke-linecap=\"round\" style=\"stroke:red;stroke-width:1\" /><line x1=\"416.307\" y1=\"277.095\" x2=\"410.099\" y2=\"269.255\" stroke-linecap=\"round\" style=\"stroke:red;stroke-width:1\" /><line x1=\"410.099\" y1=\"269.255\" x2=\"400.639\" y2=\"266.014\" stroke-linecap=\"round\" style=\"stroke:red;stroke-width:1\" /><line x1=\"400.639\" y1=\"266.014\" x2=\"391.021\" y2=\"268.752\" stroke-linecap=\"round\" style=\"stroke:red;stroke-width:1\" /><line x1=\"391.021\" y1=\"268.752\" x2=\"384.951\" y2=\"276.699\" stroke-linecap=\"round\" style=\"stroke:red;stroke-width:1\" /><line x1=\"384.951\" y1=\"276.699\" x2=\"385.15\" y2=\"286.697\" stroke-linecap=\"round\" style=\"stroke:red;stroke-width:1\" /><line x1=\"385.15\" y1=\"286.697\" x2=\"391.741\" y2=\"294.217\" stroke-linecap=\"round\" style=\"stroke:red;stroke-width:1\" /><line x1=\"391.741\" y1=\"294.217\" x2=\"401.66\" y2=\"295.486\" stroke-linecap=\"round\" style=\"stroke:red;stroke-width:1\" /><line x1=\"401.66\" y1=\"295.486\" x2=\"409.815\" y2=\"289.699\" stroke-linecap=\"round\" style=\"stroke:red;stroke-width:1\" /><line x1=\"409.815\" y1=\"289.699\" x2=\"411.731\" y2=\"279.884\" stroke-linecap=\"round\" style=\"stroke:red;stroke-width:1\" /><line x1=\"411.731\" y1=\"279.884\" x2=\"406.248\" y2=\"271.521\" stroke-linecap=\"round\" style=\"stroke:red;stroke-width:1\" /><line x1=\"406.248\" y1=\"271.521\" x2=\"396.466\" y2=\"269.445\" stroke-linecap=\"round\" style=\"stroke:red;stroke-width:1\" /><line x1=\"396.466\" y1=\"269.445\" x2=\"388.079\" y2=\"274.892\" stroke-linecap=\"round\" style=\"stroke:red;stroke-width:1\" /><line x1=\"388.079\" y1=\"274.892\" x2=\"385.992\" y2=\"284.672\" stroke-linecap=\"round\" style=\"stroke:red;stroke-width:1\" /><line x1=\"385.992\" y1=\"284.672\" x2=\"391.383\" y2=\"293.095\" stroke-linecap=\"round\" style=\"stroke:red;stroke-width:1\" /><line x1=\"391.383\" y1=\"293.095\" x2=\"401.117\" y2=\"295.385\" stroke-linecap=\"round\" style=\"stroke:red;stroke-width:1\" /><line x1=\"401.117\" y1=\"295.385\" x2=\"409.765\" y2=\"290.365\" stroke-linecap=\"round\" style=\"stroke:red;stroke-width:1\" /><line x1=\"409.765\" y1=\"290.365\" x2=\"412.771\" y2=\"280.828\" stroke-linecap=\"round\" style=\"stroke:red;stroke-width:1\" /><line x1=\"412.771\" y1=\"280.828\" x2=\"408.76\" y2=\"271.668\" stroke-linecap=\"round\" style=\"stroke:red;stroke-width:1\" /><line x1=\"408.76\" y1=\"271.668\" x2=\"399.822\" y2=\"267.183\" stroke-linecap=\"round\" style=\"stroke:red;stroke-width:1\" /><line x1=\"399.822\" y1=\"267.183\" x2=\"390.02\" y2=\"269.164\" stroke-linecap=\"round\" style=\"stroke:red;stroke-width:1\" /><line x1=\"390.02\" y1=\"269.164\" x2=\"383.288\" y2=\"276.558\" stroke-linecap=\"round\" style=\"stroke:red;stroke-width:1\" /><line x1=\"383.288\" y1=\"276.558\" x2=\"381.89\" y2=\"286.46\" stroke-linecap=\"round\" style=\"stroke:red;stroke-width:1\" /><line x1=\"381.89\" y1=\"286.46\" x2=\"385.977\" y2=\"295.587\" stroke-linecap=\"round\" style=\"stroke:red;stroke-width:1\" /><line x1=\"385.977\" y1=\"295.587\" x2=\"394.072\" y2=\"301.459\" stroke-linecap=\"round\" style=\"stroke:red;stroke-width:1\" /><line x1=\"394.072\" y1=\"301.459\" x2=\"403.965\" y2=\"302.916\" stroke-linecap=\"round\" style=\"stroke:red;stroke-width:1\" /><line x1=\"403.965\" y1=\"302.916\" x2=\"413.539\" y2=\"300.029\" stroke-linecap=\"round\" style=\"stroke:red;stroke-width:1\" /><line x1=\"413.539\" y1=\"300.029\" x2=\"421.258\" y2=\"293.671\" stroke-linecap=\"round\" style=\"stroke:red;stroke-width:1\" /><line x1=\"421.258\" y1=\"293.671\" x2=\"426.307\" y2=\"285.039\" stroke-linecap=\"round\" style=\"stroke:red;stroke-width:1\" /><line x1=\"426.307\" y1=\"285.039\" x2=\"428.492\" y2=\"275.281\" stroke-linecap=\"round\" style=\"stroke:red;stroke-width:1\" /><line x1=\"428.492\" y1=\"275.281\" x2=\"428.037\" y2=\"265.291\" stroke-linecap=\"round\" style=\"stroke:red;stroke-width:1\" /><line x1=\"428.037\" y1=\"265.291\" x2=\"425.38\" y2=\"255.65\" stroke-linecap=\"round\" style=\"stroke:red;stroke-width:1\" /><line x1=\"425.38\" y1=\"255.65\" x2=\"421.019\" y2=\"246.651\" stroke-linecap=\"round\" style=\"stroke:red;stroke-width:1\" /><line x1=\"421.019\" y1=\"246.651\" x2=\"415.42\" y2=\"238.365\" stroke-linecap=\"round\" style=\"stroke:red;stroke-width:1\" /><line x1=\"415.42\" y1=\"238.365\" x2=\"408.979\" y2=\"230.715\" stroke-linecap=\"round\" style=\"stroke:red;stroke-width:1\" /><line x1=\"408.979\" y1=\"230.715\" x2=\"402.015\" y2=\"223.539\" stroke-linecap=\"round\" style=\"stroke:red;stroke-width:1\" /><line x1=\"402.015\" y1=\"223.539\" x2=\"394.78\" y2=\"216.636\" stroke-linecap=\"round\" style=\"stroke:red;stroke-width:1\" /><line x1=\"394.78\" y1=\"216.636\" x2=\"387.48\" y2=\"209.802\" stroke-linecap=\"round\" style=\"stroke:red;stroke-width:1\" /><line x1=\"387.48\" y1=\"209.802\" x2=\"380.291\" y2=\"202.85\" stroke-linecap=\"round\" style=\"stroke:red;stroke-width:1\" /><line x1=\"380.291\" y1=\"202.85\" x2=\"373.373\" y2=\"195.629\" stroke-linecap=\"round\" style=\"stroke:red;stroke-width:1\" /><line x1=\"373.373\" y1=\"195.629\" x2=\"366.873\" y2=\"188.03\" stroke-linecap=\"round\" style=\"stroke:red;stroke-width:1\" /><line x1=\"366.873\" y1=\"188.03\" x2=\"360.924\" y2=\"179.992\" stroke-linecap=\"round\" style=\"stroke:red;stroke-width:1\" /><line x1=\"360.924\" y1=\"179.992\" x2=\"355.639\" y2=\"171.503\" stroke-linecap=\"round\" style=\"stroke:red;stroke-width:1\" /><line x1=\"355.639\" y1=\"171.503\" x2=\"351.102\" y2=\"162.592\" stroke-linecap=\"round\" style=\"stroke:red;stroke-width:1\" /><line x1=\"351.102\" y1=\"162.592\" x2=\"347.358\" y2=\"153.319\" stroke-linecap=\"round\" style=\"stroke:red;stroke-width:1\" /><line x1=\"347.358\" y1=\"153.319\" x2=\"344.405\" y2=\"143.765\" stroke-linecap=\"round\" style=\"stroke:red;stroke-width:1\" /><line x1=\"344.405\" y1=\"143.765\" x2=\"342.193\" y2=\"134.013\" stroke-linecap=\"round\" style=\"stroke:red;stroke-width:1\" /><line x1=\"342.193\" y1=\"134.013\" x2=\"340.618\" y2=\"124.138\" stroke-linecap=\"round\" style=\"stroke:red;stroke-width:1\" /><line x1=\"340.618\" y1=\"124.138\" x2=\"339.53\" y2=\"114.197\" stroke-linecap=\"round\" style=\"stroke:red;stroke-width:1\" /><line x1=\"339.53\" y1=\"114.197\" x2=\"338.734\" y2=\"104.229\" stroke-linecap=\"round\" style=\"stroke:red;stroke-width:1\" /><line x1=\"338.734\" y1=\"104.229\" x2=\"337.995\" y2=\"94.256\" stroke-linecap=\"round\" style=\"stroke:red;stroke-width:1\" /><line x1=\"337.995\" y1=\"94.256\" x2=\"337.043\" y2=\"84.301\" stroke-linecap=\"round\" style=\"stroke:red;stroke-width:1\" /><line x1=\"337.043\" y1=\"84.301\" x2=\"335.577\" y2=\"74.409\" stroke-linecap=\"round\" style=\"stroke:red;stroke-width:1\" /><line x1=\"335.577\" y1=\"74.409\" x2=\"333.275\" y2=\"64.678\" stroke-linecap=\"round\" style=\"stroke:red;stroke-width:1\" /><line x1=\"333.275\" y1=\"64.678\" x2=\"329.814\" y2=\"55.296\" stroke-linecap=\"round\" style=\"stroke:red;stroke-width:1\" /><line x1=\"329.814\" y1=\"55.296\" x2=\"324.907\" y2=\"46.583\" stroke-linecap=\"round\" style=\"stroke:red;stroke-width:1\" /><line x1=\"324.907\" y1=\"46.583\" x2=\"318.369\" y2=\"39.016\" stroke-linecap=\"round\" style=\"stroke:red;stroke-width:1\" /><line x1=\"318.369\" y1=\"39.016\" x2=\"310.213\" y2=\"33.23\" stroke-linecap=\"round\" style=\"stroke:red;stroke-width:1\" /><line x1=\"310.213\" y1=\"33.23\" x2=\"300.762\" y2=\"29.962\" stroke-linecap=\"round\" style=\"stroke:red;stroke-width:1\" /><line x1=\"300.762\" y1=\"29.962\" x2=\"290.762\" y2=\"29.907\" stroke-linecap=\"round\" style=\"stroke:red;stroke-width:1\" /><line x1=\"290.762\" y1=\"29.907\" x2=\"281.423\" y2=\"33.482\" stroke-linecap=\"round\" style=\"stroke:red;stroke-width:1\" /><line x1=\"281.423\" y1=\"33.482\" x2=\"274.314\" y2=\"40.515\" stroke-linecap=\"round\" style=\"stroke:red;stroke-width:1\" /><line x1=\"274.314\" y1=\"40.515\" x2=\"271.04\" y2=\"49.964\" stroke-linecap=\"round\" style=\"stroke:red;stroke-width:1\" /><line x1=\"271.04\" y1=\"49.964\" x2=\"272.686\" y2=\"59.828\" stroke-linecap=\"round\" style=\"stroke:red;stroke-width:1\" /><line x1=\"272.686\" y1=\"59.828\" x2=\"279.162\" y2=\"67.448\" stroke-linecap=\"round\" style=\"stroke:red;stroke-width:1\" /><line x1=\"279.162\" y1=\"67.448\" x2=\"288.747\" y2=\"70.299\" stroke-linecap=\"round\" style=\"stroke:red;stroke-width:1\" /><line x1=\"288.747\" y1=\"70.299\" x2=\"298.226\" y2=\"67.114\" stroke-linecap=\"round\" style=\"stroke:red;stroke-width:1\" /><line x1=\"298.226\" y1=\"67.114\" x2=\"303.872\" y2=\"58.861\" stroke-linecap=\"round\" style=\"stroke:red;stroke-width:1\" /><line x1=\"303.872\" y1=\"58.861\" x2=\"303.103\" y2=\"48.891\" stroke-linecap=\"round\" style=\"stroke:red;stroke-width:1\" /><line x1=\"303.103\" y1=\"48.891\" x2=\"296.062\" y2=\"41.79\" stroke-linecap=\"round\" style=\"stroke:red;stroke-width:1\" /><line x1=\"296.062\" y1=\"41.79\" x2=\"286.081\" y2=\"41.17\" stroke-linecap=\"round\" style=\"stroke:red;stroke-width:1\" /><line x1=\"286.081\" y1=\"41.17\" x2=\"278.339\" y2=\"47.499\" stroke-linecap=\"round\" style=\"stroke:red;stroke-width:1\" /><line x1=\"278.339\" y1=\"47.499\" x2=\"277.12\" y2=\"57.424\" stroke-linecap=\"round\" style=\"stroke:red;stroke-width:1\" /><line x1=\"277.12\" y1=\"57.424\" x2=\"283.193\" y2=\"65.369\" stroke-linecap=\"round\" style=\"stroke:red;stroke-width:1\" /><line x1=\"283.193\" y1=\"65.369\" x2=\"293.101\" y2=\"66.724\" stroke-linecap=\"round\" style=\"stroke:red;stroke-width:1\" /><line x1=\"293.101\" y1=\"66.724\" x2=\"301.066\" y2=\"60.677\" stroke-linecap=\"round\" style=\"stroke:red;stroke-width:1\" /><line x1=\"301.066\" y1=\"60.677\" x2=\"302.436\" y2=\"50.771\" stroke-linecap=\"round\" style=\"stroke:red;stroke-width:1\" /><line x1=\"302.436\" y1=\"50.771\" x2=\"296.456\" y2=\"42.756\" stroke-linecap=\"round\" style=\"stroke:red;stroke-width:1\" /><line x1=\"296.456\" y1=\"42.756\" x2=\"286.586\" y2=\"41.149\" stroke-linecap=\"round\" style=\"stroke:red;stroke-width:1\" /><line x1=\"286.586\" y1=\"41.149\" x2=\"278.293\" y2=\"46.737\" stroke-linecap=\"round\" style=\"stroke:red;stroke-width:1\" /><line x1=\"278.293\" y1=\"46.737\" x2=\"275.899\" y2=\"56.446\" stroke-linecap=\"round\" style=\"stroke:red;stroke-width:1\" /><line x1=\"275.899\" y1=\"56.446\" x2=\"280.449\" y2=\"65.351\" stroke-linecap=\"round\" style=\"stroke:red;stroke-width:1\" /><line x1=\"280.449\" y1=\"65.351\" x2=\"289.62\" y2=\"69.336\" stroke-linecap=\"round\" style=\"stroke:red;stroke-width:1\" /><line x1=\"289.62\" y1=\"69.336\" x2=\"299.311\" y2=\"66.867\" stroke-linecap=\"round\" style=\"stroke:red;stroke-width:1\" /><line x1=\"299.311\" y1=\"66.867\" x2=\"305.708\" y2=\"59.181\" stroke-linecap=\"round\" style=\"stroke:red;stroke-width:1\" /><line x1=\"305.708\" y1=\"59.181\" x2=\"306.725\" y2=\"49.233\" stroke-linecap=\"round\" style=\"stroke:red;stroke-width:1\" /><line x1=\"306.725\" y1=\"49.233\" x2=\"302.349\" y2=\"40.241\" stroke-linecap=\"round\" style=\"stroke:red;stroke-width:1\" /><line x1=\"302.349\" y1=\"40.241\" x2=\"294.109\" y2=\"34.574\" stroke-linecap=\"round\" style=\"stroke:red;stroke-width:1\" /><line x1=\"294.109\" y1=\"34.574\" x2=\"284.191\" y2=\"33.296\" stroke-linecap=\"round\" style=\"stroke:red;stroke-width:1\" /><line x1=\"284.191\" y1=\"33.296\" x2=\"274.649\" y2=\"36.288\" stroke-linecap=\"round\" style=\"stroke:red;stroke-width:1\" /><line x1=\"274.649\" y1=\"36.288\" x2=\"266.953\" y2=\"42.674\" stroke-linecap=\"round\" style=\"stroke:red;stroke-width:1\" /><line x1=\"266.953\" y1=\"42.674\" x2=\"261.872\" y2=\"51.287\" stroke-linecap=\"round\" style=\"stroke:red;stroke-width:1\" /><line x1=\"261.872\" y1=\"51.287\" x2=\"259.579\" y2=\"61.021\" stroke-linecap=\"round\" style=\"stroke:red;stroke-width:1\" /><line x1=\"259.579\" y1=\"61.021\" x2=\"259.852\" y2=\"71.017\" stroke-linecap=\"round\" style=\"stroke:red;stroke-width:1\" /><line x1=\"259.852\" y1=\"71.017\" x2=\"262.265\" y2=\"80.721\" stroke-linecap=\"round\" style=\"stroke:red;stroke-width:1\" /><line x1=\"262.265\" y1=\"80.721\" x2=\"266.336\" y2=\"89.855\" stroke-linecap=\"round\" style=\"stroke:red;stroke-width:1\" /><line x1=\"266.336\" y1=\"89.855\" x2=\"271.612\" y2=\"98.35\" stroke-linecap=\"round\" style=\"stroke:red;stroke-width:1\" /><line x1=\"271.612\" y1=\"98.35\" x2=\"277.706\" y2=\"106.278\" stroke-linecap=\"round\" style=\"stroke:red;stroke-width:1\" /><line x1=\"277.706\" y1=\"106.278\" x2=\"284.303\" y2=\"113.794\" stroke-linecap=\"round\" style=\"stroke:red;stroke-width:1\" /><line x1=\"284.303\" y1=\"113.794\" x2=\"291.147\" y2=\"121.085\" stroke-linecap=\"round\" style=\"stroke:red;stroke-width:1\" /><line x1=\"291.147\" y1=\"121.085\" x2=\"298.026\" y2=\"128.343\" stroke-linecap=\"round\" style=\"stroke:red;stroke-width:1\" /><line x1=\"298.026\" y1=\"128.343\" x2=\"304.758\" y2=\"135.738\" stroke-linecap=\"round\" style=\"stroke:red;stroke-width:1\" /><line x1=\"304.758\" y1=\"135.738\" x2=\"311.177\" y2=\"143.406\" stroke-linecap=\"round\" style=\"stroke:red;stroke-width:1\" /><line x1=\"311.177\" y1=\"143.406\" x2=\"317.132\" y2=\"151.439\" stroke-linecap=\"round\" style=\"stroke:red;stroke-width:1\" /><line x1=\"317.132\" y1=\"151.439\" x2=\"322.491\" y2=\"159.882\" stroke-linecap=\"round\" style=\"stroke:red;stroke-width:1\" /><line x1=\"322.491\" y1=\"159.882\" x2=\"327.144\" y2=\"168.733\" stroke-linecap=\"round\" style=\"stroke:red;stroke-width:1\" /><line x1=\"327.144\" y1=\"168.733\" x2=\"331.016\" y2=\"177.953\" stroke-linecap=\"round\" style=\"stroke:red;stroke-width:1\" /><line x1=\"331.016\" y1=\"177.953\" x2=\"334.072\" y2=\"187.474\" stroke-linecap=\"round\" style=\"stroke:red;stroke-width:1\" /><line x1=\"334.072\" y1=\"187.474\" x2=\"336.327\" y2=\"197.216\" stroke-linecap=\"round\" style=\"stroke:red;stroke-width:1\" /><line x1=\"336.327\" y1=\"197.216\" x2=\"337.847\" y2=\"207.1\" stroke-linecap=\"round\" style=\"stroke:red;stroke-width:1\" /><line x1=\"337.847\" y1=\"207.1\" x2=\"338.746\" y2=\"217.06\" stroke-linecap=\"round\" style=\"stroke:red;stroke-width:1\" /><line x1=\"338.746\" y1=\"217.06\" x2=\"339.185\" y2=\"227.05\" stroke-linecap=\"round\" style=\"stroke:red;stroke-width:1\" /><line x1=\"339.185\" y1=\"227.05\" x2=\"339.368\" y2=\"237.048\" stroke-linecap=\"round\" style=\"stroke:red;stroke-width:1\" /><line x1=\"339.368\" y1=\"237.048\" x2=\"339.537\" y2=\"247.047\" stroke-linecap=\"round\" style=\"stroke:red;stroke-width:1\" /><line x1=\"339.537\" y1=\"247.047\" x2=\"339.968\" y2=\"257.038\" stroke-linecap=\"round\" style=\"stroke:red;stroke-width:1\" /><line x1=\"339.968\" y1=\"257.038\" x2=\"340.97\" y2=\"266.988\" stroke-linecap=\"round\" style=\"stroke:red;stroke-width:1\" /><line x1=\"340.97\" y1=\"266.988\" x2=\"342.872\" y2=\"276.805\" stroke-linecap=\"round\" style=\"stroke:red;stroke-width:1\" /><line x1=\"342.872\" y1=\"276.805\" x2=\"346.007\" y2=\"286.301\" stroke-linecap=\"round\" style=\"stroke:red;stroke-width:1\" /><line x1=\"346.007\" y1=\"286.301\" x2=\"350.668\" y2=\"295.148\" stroke-linecap=\"round\" style=\"stroke:red;stroke-width:1\" /><line x1=\"350.668\" y1=\"295.148\" x2=\"357.045\" y2=\"302.851\" stroke-linecap=\"round\" style=\"stroke:red;stroke-width:1\" /><line x1=\"357.045\" y1=\"302.851\" x2=\"365.12\" y2=\"308.75\" stroke-linecap=\"round\" style=\"stroke:red;stroke-width:1\" /><line x1=\"365.12\" y1=\"308.75\" x2=\"374.549\" y2=\"312.081\" stroke-linecap=\"round\" style=\"stroke:red;stroke-width:1\" /><line x1=\"374.549\" y1=\"312.081\" x2=\"384.549\" y2=\"312.129\" stroke-linecap=\"round\" style=\"stroke:red;stroke-width:1\" /><line x1=\"384.549\" y1=\"312.129\" x2=\"393.859\" y2=\"308.479\" stroke-linecap=\"round\" style=\"stroke:red;stroke-width:1\" /><line x1=\"393.859\" y1=\"308.479\" x2=\"400.86\" y2=\"301.338\" stroke-linecap=\"round\" style=\"stroke:red;stroke-width:1\" /><line x1=\"400.86\" y1=\"301.338\" x2=\"403.922\" y2=\"291.818\" stroke-linecap=\"round\" style=\"stroke:red;stroke-width:1\" /><line x1=\"403.922\" y1=\"291.818\" x2=\"401.989\" y2=\"282.007\" stroke-linecap=\"round\" style=\"stroke:red;stroke-width:1\" /><line x1=\"401.989\" y1=\"282.007\" x2=\"395.245\" y2=\"274.623\" stroke-linecap=\"round\" style=\"stroke:red;stroke-width:1\" /><line x1=\"395.245\" y1=\"274.623\" x2=\"385.549\" y2=\"272.177\" stroke-linecap=\"round\" style=\"stroke:red;stroke-width:1\" /><line x1=\"385.549\" y1=\"272.177\" x2=\"376.233\" y2=\"275.811\" stroke-linecap=\"round\" style=\"stroke:red;stroke-width:1\" /><line x1=\"376.233\" y1=\"275.811\" x2=\"371.033\" y2=\"284.352\" stroke-linecap=\"round\" style=\"stroke:red;stroke-width:1\" /><line x1=\"371.033\" y1=\"284.352\" x2=\"372.378\" y2=\"294.261\" stroke-linecap=\"round\" style=\"stroke:red;stroke-width:1\" /><line x1=\"372.378\" y1=\"294.261\" x2=\"379.846\" y2=\"300.912\" stroke-linecap=\"round\" style=\"stroke:red;stroke-width:1\" /><line x1=\"379.846\" y1=\"300.912\" x2=\"389.846\" y2=\"300.876\" stroke-linecap=\"round\" style=\"stroke:red;stroke-width:1\" /><line x1=\"389.846\" y1=\"300.876\" x2=\"397.136\" y2=\"294.03\" stroke-linecap=\"round\" style=\"stroke:red;stroke-width:1\" /><line x1=\"397.136\" y1=\"294.03\" x2=\"397.649\" y2=\"284.043\" stroke-linecap=\"round\" style=\"stroke:red;stroke-width:1\" /><line x1=\"397.649\" y1=\"284.043\" x2=\"391.017\" y2=\"276.558\" stroke-linecap=\"round\" style=\"stroke:red;stroke-width:1\" /><line x1=\"391.017\" y1=\"276.558\" x2=\"381.037\" y2=\"275.931\" stroke-linecap=\"round\" style=\"stroke:red;stroke-width:1\" /><line x1=\"381.037\" y1=\"275.931\" x2=\"373.537\" y2=\"282.545\" stroke-linecap=\"round\" style=\"stroke:red;stroke-width:1\" /><line x1=\"373.537\" y1=\"282.545\" x2=\"372.89\" y2=\"292.524\" stroke-linecap=\"round\" style=\"stroke:red;stroke-width:1\" /><line x1=\"372.89\" y1=\"292.524\" x2=\"379.426\" y2=\"300.093\" stroke-linecap=\"round\" style=\"stroke:red;stroke-width:1\" /><line x1=\"379.426\" y1=\"300.093\" x2=\"389.384\" y2=\"301.013\" stroke-linecap=\"round\" style=\"stroke:red;stroke-width:1\" /><line x1=\"389.384\" y1=\"301.013\" x2=\"397.288\" y2=\"294.887\" stroke-linecap=\"round\" style=\"stroke:red;stroke-width:1\" /><line x1=\"397.288\" y1=\"294.887\" x2=\"399.065\" y2=\"285.046\" stroke-linecap=\"round\" style=\"stroke:red;stroke-width:1\" /><line x1=\"399.065\" y1=\"285.046\" x2=\"393.998\" y2=\"276.425\" stroke-linecap=\"round\" style=\"stroke:red;stroke-width:1\" /><line x1=\"393.998\" y1=\"276.425\" x2=\"384.624\" y2=\"272.943\" stroke-linecap=\"round\" style=\"stroke:red;stroke-width:1\" /><line x1=\"384.624\" y1=\"272.943\" x2=\"375.066\" y2=\"275.884\" stroke-linecap=\"round\" style=\"stroke:red;stroke-width:1\" /><line x1=\"375.066\" y1=\"275.884\" x2=\"369.008\" y2=\"283.84\" stroke-linecap=\"round\" style=\"stroke:red;stroke-width:1\" /><line x1=\"369.008\" y1=\"283.84\" x2=\"368.362\" y2=\"293.819\" stroke-linecap=\"round\" style=\"stroke:red;stroke-width:1\" /><line x1=\"368.362\" y1=\"293.819\" x2=\"373.013\" y2=\"302.672\" stroke-linecap=\"round\" style=\"stroke:red;stroke-width:1\" /><line x1=\"373.013\" y1=\"302.672\" x2=\"381.386\" y2=\"308.139\" stroke-linecap=\"round\" style=\"stroke:red;stroke-width:1\" /><line x1=\"381.386\" y1=\"308.139\" x2=\"391.324\" y2=\"309.249\" stroke-linecap=\"round\" style=\"stroke:red;stroke-width:1\" /><line x1=\"391.324\" y1=\"309.249\" x2=\"400.836\" y2=\"306.165\" stroke-linecap=\"round\" style=\"stroke:red;stroke-width:1\" /><line x1=\"400.836\" y1=\"306.165\" x2=\"408.516\" y2=\"299.761\" stroke-linecap=\"round\" style=\"stroke:red;stroke-width:1\" /><line x1=\"408.516\" y1=\"299.761\" x2=\"413.639\" y2=\"291.173\" stroke-linecap=\"round\" style=\"stroke:red;stroke-width:1\" /><line x1=\"413.639\" y1=\"291.173\" x2=\"416.05\" y2=\"281.468\" stroke-linecap=\"round\" style=\"stroke:red;stroke-width:1\" /><line x1=\"416.05\" y1=\"281.468\" x2=\"415.971\" y2=\"271.468\" stroke-linecap=\"round\" style=\"stroke:red;stroke-width:1\" /><line x1=\"415.971\" y1=\"271.468\" x2=\"413.814\" y2=\"261.703\" stroke-linecap=\"round\" style=\"stroke:red;stroke-width:1\" /><line x1=\"413.814\" y1=\"261.703\" x2=\"410.047\" y2=\"252.44\" stroke-linecap=\"round\" style=\"stroke:red;stroke-width:1\" /><line x1=\"410.047\" y1=\"252.44\" x2=\"405.11\" y2=\"243.744\" stroke-linecap=\"round\" style=\"stroke:red;stroke-width:1\" /><line x1=\"405.11\" y1=\"243.744\" x2=\"399.382\" y2=\"235.547\" stroke-linecap=\"round\" style=\"stroke:red;stroke-width:1\" /><line x1=\"399.382\" y1=\"235.547\" x2=\"393.177\" y2=\"227.705\" stroke-linecap=\"round\" style=\"stroke:red;stroke-width:1\" /><line x1=\"393.177\" y1=\"227.705\" x2=\"386.752\" y2=\"220.042\" stroke-linecap=\"round\" style=\"stroke:red;stroke-width:1\" /><line x1=\"386.752\" y1=\"220.042\" x2=\"380.324\" y2=\"212.382\" stroke-linecap=\"round\" style=\"stroke:red;stroke-width:1\" /><line x1=\"380.324\" y1=\"212.382\" x2=\"374.081\" y2=\"204.57\" stroke-linecap=\"round\" style=\"stroke:red;stroke-width:1\" /><line x1=\"374.081\" y1=\"204.57\" x2=\"368.194\" y2=\"196.486\" stroke-linecap=\"round\" style=\"stroke:red;stroke-width:1\" /><line x1=\"368.194\" y1=\"196.486\" x2=\"362.815\" y2=\"188.056\" stroke-linecap=\"round\" style=\"stroke:red;stroke-width:1\" /><line x1=\"362.815\" y1=\"188.056\" x2=\"358.076\" y2=\"179.25\" stroke-linecap=\"round\" style=\"stroke:red;stroke-width:1\" /><line x1=\"358.076\" y1=\"179.25\" x2=\"354.081\" y2=\"170.083\" stroke-linecap=\"round\" style=\"stroke:red;stroke-width:1\" /><line x1=\"354.081\" y1=\"170.083\" x2=\"350.896\" y2=\"160.604\" stroke-linecap=\"round\" style=\"stroke:red;stroke-width:1\" /><line x1=\"350.896\" y1=\"160.604\" x2=\"348.543\" y2=\"150.885\" stroke-linecap=\"round\" style=\"stroke:red;stroke-width:1\" /><line x1=\"348.543\" y1=\"150.885\" x2=\"346.994\" y2=\"141.006\" stroke-linecap=\"round\" style=\"stroke:red;stroke-width:1\" /><line x1=\"346.994\" y1=\"141.006\" x2=\"346.171\" y2=\"131.04\" stroke-linecap=\"round\" style=\"stroke:red;stroke-width:1\" /><line x1=\"346.171\" y1=\"131.04\" x2=\"345.948\" y2=\"121.042\" stroke-linecap=\"round\" style=\"stroke:red;stroke-width:1\" /><line x1=\"345.948\" y1=\"121.042\" x2=\"346.154\" y2=\"111.044\" stroke-linecap=\"round\" style=\"stroke:red;stroke-width:1\" /><line x1=\"346.154\" y1=\"111.044\" x2=\"346.578\" y2=\"101.053\" stroke-linecap=\"round\" style=\"stroke:red;stroke-width:1\" /><line x1=\"346.578\" y1=\"101.053\" x2=\"346.972\" y2=\"91.061\" stroke-linecap=\"round\" style=\"stroke:red;stroke-width:1\" /><line x1=\"346.972\" y1=\"91.061\" x2=\"347.054\" y2=\"81.061\" stroke-linecap=\"round\" style=\"stroke:red;stroke-width:1\" /><line x1=\"347.054\" y1=\"81.061\" x2=\"346.509\" y2=\"71.076\" stroke-linecap=\"round\" style=\"stroke:red;stroke-width:1\" /><line x1=\"346.509\" y1=\"71.076\" x2=\"345.0\" y2=\"61.191\" stroke-linecap=\"round\" style=\"stroke:red;stroke-width:1\" /><line x1=\"345.0\" y1=\"61.191\" x2=\"342.185\" y2=\"51.595\" stroke-linecap=\"round\" style=\"stroke:red;stroke-width:1\" /><line x1=\"342.185\" y1=\"51.595\" x2=\"337.763\" y2=\"42.626\" stroke-linecap=\"round\" style=\"stroke:red;stroke-width:1\" /><line x1=\"337.763\" y1=\"42.626\" x2=\"331.541\" y2=\"34.798\" stroke-linecap=\"round\" style=\"stroke:red;stroke-width:1\" /><line x1=\"331.541\" y1=\"34.798\" x2=\"323.542\" y2=\"28.797\" stroke-linecap=\"round\" style=\"stroke:red;stroke-width:1\" /><line x1=\"323.542\" y1=\"28.797\" x2=\"314.131\" y2=\"25.415\" stroke-linecap=\"round\" style=\"stroke:red;stroke-width:1\" /><line x1=\"314.131\" y1=\"25.415\" x2=\"304.131\" y2=\"25.386\" stroke-linecap=\"round\" style=\"stroke:red;stroke-width:1\" /><line x1=\"304.131\" y1=\"25.386\" x2=\"294.855\" y2=\"29.121\" stroke-linecap=\"round\" style=\"stroke:red;stroke-width:1\" /><line x1=\"294.855\" y1=\"29.121\" x2=\"287.972\" y2=\"36.376\" stroke-linecap=\"round\" style=\"stroke:red;stroke-width:1\" /><line x1=\"287.972\" y1=\"36.376\" x2=\"285.134\" y2=\"45.965\" stroke-linecap=\"round\" style=\"stroke:red;stroke-width:1\" /><line x1=\"285.134\" y1=\"45.965\" x2=\"287.363\" y2=\"55.713\" stroke-linecap=\"round\" style=\"stroke:red;stroke-width:1\" /><line x1=\"287.363\" y1=\"55.713\" x2=\"294.374\" y2=\"62.843\" stroke-linecap=\"round\" style=\"stroke:red;stroke-width:1\" /><line x1=\"294.374\" y1=\"62.843\" x2=\"304.166\" y2=\"64.87\" stroke-linecap=\"round\" style=\"stroke:red;stroke-width:1\" /><line x1=\"304.166\" y1=\"64.87\" x2=\"313.294\" y2=\"60.786\" stroke-linecap=\"round\" style=\"stroke:red;stroke-width:1\" /><line x1=\"313.294\" y1=\"60.786\" x2=\"318.026\" y2=\"51.977\" stroke-linecap=\"round\" style=\"stroke:red;stroke-width:1\" /><line x1=\"318.026\" y1=\"51.977\" x2=\"316.103\" y2=\"42.164\" stroke-linecap=\"round\" style=\"stroke:red;stroke-width:1\" /><line x1=\"316.103\" y1=\"42.164\" x2=\"308.233\" y2=\"35.995\" stroke-linecap=\"round\" style=\"stroke:red;stroke-width:1\" /><line x1=\"308.233\" y1=\"35.995\" x2=\"298.257\" y2=\"36.693\" stroke-linecap=\"round\" style=\"stroke:red;stroke-width:1\" /><line x1=\"298.257\" y1=\"36.693\" x2=\"291.457\" y2=\"44.025\" stroke-linecap=\"round\" style=\"stroke:red;stroke-width:1\" /><line x1=\"291.457\" y1=\"44.025\" x2=\"291.656\" y2=\"54.023\" stroke-linecap=\"round\" style=\"stroke:red;stroke-width:1\" /><line x1=\"291.656\" y1=\"54.023\" x2=\"298.813\" y2=\"61.007\" stroke-linecap=\"round\" style=\"stroke:red;stroke-width:1\" /><line x1=\"298.813\" y1=\"61.007\" x2=\"308.812\" y2=\"60.901\" stroke-linecap=\"round\" style=\"stroke:red;stroke-width:1\" /><line x1=\"308.812\" y1=\"60.901\" x2=\"315.808\" y2=\"53.755\" stroke-linecap=\"round\" style=\"stroke:red;stroke-width:1\" /><line x1=\"315.808\" y1=\"53.755\" x2=\"315.73\" y2=\"43.755\" stroke-linecap=\"round\" style=\"stroke:red;stroke-width:1\" /><line x1=\"315.73\" y1=\"43.755\" x2=\"308.674\" y2=\"36.669\" stroke-linecap=\"round\" style=\"stroke:red;stroke-width:1\" /><line x1=\"308.674\" y1=\"36.669\" x2=\"298.677\" y2=\"36.436\" stroke-linecap=\"round\" style=\"stroke:red;stroke-width:1\" /><line x1=\"298.677\" y1=\"36.436\" x2=\"291.194\" y2=\"43.07\" stroke-linecap=\"round\" style=\"stroke:red;stroke-width:1\" /><line x1=\"291.194\" y1=\"43.07\" x2=\"290.034\" y2=\"53.002\" stroke-linecap=\"round\" style=\"stroke:red;stroke-width:1\" /><line x1=\"290.034\" y1=\"53.002\" x2=\"295.594\" y2=\"61.314\" stroke-linecap=\"round\" style=\"stroke:red;stroke-width:1\" /><line x1=\"295.594\" y1=\"61.314\" x2=\"305.141\" y2=\"64.29\" stroke-linecap=\"round\" style=\"stroke:red;stroke-width:1\" /><line x1=\"305.141\" y1=\"64.29\" x2=\"314.546\" y2=\"60.892\" stroke-linecap=\"round\" style=\"stroke:red;stroke-width:1\" /><line x1=\"314.546\" y1=\"60.892\" x2=\"320.261\" y2=\"52.686\" stroke-linecap=\"round\" style=\"stroke:red;stroke-width:1\" /><line x1=\"320.261\" y1=\"52.686\" x2=\"320.545\" y2=\"42.69\" stroke-linecap=\"round\" style=\"stroke:red;stroke-width:1\" /><line x1=\"320.545\" y1=\"42.69\" x2=\"315.634\" y2=\"33.979\" stroke-linecap=\"round\" style=\"stroke:red;stroke-width:1\" /><line x1=\"315.634\" y1=\"33.979\" x2=\"307.138\" y2=\"28.704\" stroke-linecap=\"round\" style=\"stroke:red;stroke-width:1\" /><line x1=\"307.138\" y1=\"28.704\" x2=\"297.184\" y2=\"27.751\" stroke-linecap=\"round\" style=\"stroke:red;stroke-width:1\" /><line x1=\"297.184\" y1=\"27.751\" x2=\"287.698\" y2=\"30.916\" stroke-linecap=\"round\" style=\"stroke:red;stroke-width:1\" /><line x1=\"287.698\" y1=\"30.916\" x2=\"280.025\" y2=\"37.329\" stroke-linecap=\"round\" style=\"stroke:red;stroke-width:1\" /><line x1=\"280.025\" y1=\"37.329\" x2=\"274.849\" y2=\"45.885\" stroke-linecap=\"round\" style=\"stroke:red;stroke-width:1\" /><line x1=\"274.849\" y1=\"45.885\" x2=\"272.308\" y2=\"55.557\" stroke-linecap=\"round\" style=\"stroke:red;stroke-width:1\" /><line x1=\"272.308\" y1=\"55.557\" x2=\"272.181\" y2=\"65.556\" stroke-linecap=\"round\" style=\"stroke:red;stroke-width:1\" /><line x1=\"272.181\" y1=\"65.556\" x2=\"274.068\" y2=\"75.376\" stroke-linecap=\"round\" style=\"stroke:red;stroke-width:1\" /><line x1=\"274.068\" y1=\"75.376\" x2=\"277.517\" y2=\"84.762\" stroke-linecap=\"round\" style=\"stroke:red;stroke-width:1\" /><line x1=\"277.517\" y1=\"84.762\" x2=\"282.098\" y2=\"93.651\" stroke-linecap=\"round\" style=\"stroke:red;stroke-width:1\" /><line x1=\"282.098\" y1=\"93.651\" x2=\"287.44\" y2=\"102.105\" stroke-linecap=\"round\" style=\"stroke:red;stroke-width:1\" /><line x1=\"287.44\" y1=\"102.105\" x2=\"293.231\" y2=\"110.258\" stroke-linecap=\"round\" style=\"stroke:red;stroke-width:1\" /><line x1=\"293.231\" y1=\"110.258\" x2=\"299.211\" y2=\"118.273\" stroke-linecap=\"round\" style=\"stroke:red;stroke-width:1\" /><line x1=\"299.211\" y1=\"118.273\" x2=\"305.16\" y2=\"126.311\" stroke-linecap=\"round\" style=\"stroke:red;stroke-width:1\" /><line x1=\"305.16\" y1=\"126.311\" x2=\"310.883\" y2=\"134.511\" stroke-linecap=\"round\" style=\"stroke:red;stroke-width:1\" /><line x1=\"310.883\" y1=\"134.511\" x2=\"316.207\" y2=\"142.976\" stroke-linecap=\"round\" style=\"stroke:red;stroke-width:1\" /><line x1=\"316.207\" y1=\"142.976\" x2=\"320.979\" y2=\"151.764\" stroke-linecap=\"round\" style=\"stroke:red;stroke-width:1\" /><line x1=\"320.979\" y1=\"151.764\" x2=\"325.071\" y2=\"160.889\" stroke-linecap=\"round\" style=\"stroke:red;stroke-width:1\" /><line x1=\"325.071\" y1=\"160.889\" x2=\"328.386\" y2=\"170.324\" stroke-linecap=\"round\" style=\"stroke:red;stroke-width:1\" /><line x1=\"328.386\" y1=\"170.324\" x2=\"330.868\" y2=\"180.011\" stroke-linecap=\"round\" style=\"stroke:red;stroke-width:1\" /><line x1=\"330.868\" y1=\"180.011\" x2=\"332.507\" y2=\"189.876\" stroke-linecap=\"round\" style=\"stroke:red;stroke-width:1\" /><line x1=\"332.507\" y1=\"189.876\" x2=\"333.344\" y2=\"199.841\" stroke-linecap=\"round\" style=\"stroke:red;stroke-width:1\" /><line x1=\"333.344\" y1=\"199.841\" x2=\"333.469\" y2=\"209.84\" stroke-linecap=\"round\" style=\"stroke:red;stroke-width:1\" /><line x1=\"333.469\" y1=\"209.84\" x2=\"333.02\" y2=\"219.83\" stroke-linecap=\"round\" style=\"stroke:red;stroke-width:1\" /><line x1=\"333.02\" y1=\"219.83\" x2=\"332.175\" y2=\"229.794\" stroke-linecap=\"round\" style=\"stroke:red;stroke-width:1\" /><line x1=\"332.175\" y1=\"229.794\" x2=\"331.152\" y2=\"239.742\" stroke-linecap=\"round\" style=\"stroke:red;stroke-width:1\" /><line x1=\"331.152\" y1=\"239.742\" x2=\"330.204\" y2=\"249.697\" stroke-linecap=\"round\" style=\"stroke:red;stroke-width:1\" /><line x1=\"330.204\" y1=\"249.697\" x2=\"329.618\" y2=\"259.68\" stroke-linecap=\"round\" style=\"stroke:red;stroke-width:1\" /><line x1=\"329.618\" y1=\"259.68\" x2=\"329.715\" y2=\"269.68\" stroke-linecap=\"round\" style=\"stroke:red;stroke-width:1\" /><line x1=\"329.715\" y1=\"269.68\" x2=\"330.839\" y2=\"279.617\" stroke-linecap=\"round\" style=\"stroke:red;stroke-width:1\" /><line x1=\"330.839\" y1=\"279.617\" x2=\"333.341\" y2=\"289.299\" stroke-linecap=\"round\" style=\"stroke:red;stroke-width:1\" /><line x1=\"333.341\" y1=\"289.299\" x2=\"337.531\" y2=\"298.379\" stroke-linecap=\"round\" style=\"stroke:red;stroke-width:1\" /><line x1=\"337.531\" y1=\"298.379\" x2=\"343.606\" y2=\"306.322\" stroke-linecap=\"round\" style=\"stroke:red;stroke-width:1\" /><line x1=\"343.606\" y1=\"306.322\" x2=\"351.536\" y2=\"312.415\" stroke-linecap=\"round\" style=\"stroke:red;stroke-width:1\" /><line x1=\"351.536\" y1=\"312.415\" x2=\"360.932\" y2=\"315.837\" stroke-linecap=\"round\" style=\"stroke:red;stroke-width:1\" /><line x1=\"360.932\" y1=\"315.837\" x2=\"370.932\" y2=\"315.835\" stroke-linecap=\"round\" style=\"stroke:red;stroke-width:1\" /><line x1=\"370.932\" y1=\"315.835\" x2=\"380.169\" y2=\"312.003\" stroke-linecap=\"round\" style=\"stroke:red;stroke-width:1\" /><line x1=\"380.169\" y1=\"312.003\" x2=\"386.923\" y2=\"304.628\" stroke-linecap=\"round\" style=\"stroke:red;stroke-width:1\" /><line x1=\"386.923\" y1=\"304.628\" x2=\"389.524\" y2=\"294.972\" stroke-linecap=\"round\" style=\"stroke:red;stroke-width:1\" /><line x1=\"389.524\" y1=\"294.972\" x2=\"386.989\" y2=\"285.299\" stroke-linecap=\"round\" style=\"stroke:red;stroke-width:1\" /><line x1=\"386.989\" y1=\"285.299\" x2=\"379.713\" y2=\"278.439\" stroke-linecap=\"round\" style=\"stroke:red;stroke-width:1\" /><line x1=\"379.713\" y1=\"278.439\" x2=\"369.841\" y2=\"276.844\" stroke-linecap=\"round\" style=\"stroke:red;stroke-width:1\" /><line x1=\"369.841\" y1=\"276.844\" x2=\"360.927\" y2=\"281.375\" stroke-linecap=\"round\" style=\"stroke:red;stroke-width:1\" /><line x1=\"360.927\" y1=\"281.375\" x2=\"356.684\" y2=\"290.43\" stroke-linecap=\"round\" style=\"stroke:red;stroke-width:1\" /><line x1=\"356.684\" y1=\"290.43\" x2=\"359.186\" y2=\"300.112\" stroke-linecap=\"round\" style=\"stroke:red;stroke-width:1\" /><line x1=\"359.186\" y1=\"300.112\" x2=\"367.431\" y2=\"305.77\" stroke-linecap=\"round\" style=\"stroke:red;stroke-width:1\" /><line x1=\"367.431\" y1=\"305.77\" x2=\"377.338\" y2=\"304.408\" stroke-linecap=\"round\" style=\"stroke:red;stroke-width:1\" /><line x1=\"377.338\" y1=\"304.408\" x2=\"383.612\" y2=\"296.621\" stroke-linecap=\"round\" style=\"stroke:red;stroke-width:1\" /><line x1=\"383.612\" y1=\"296.621\" x2=\"382.7\" y2=\"286.663\" stroke-linecap=\"round\" style=\"stroke:red;stroke-width:1\" /><line x1=\"382.7\" y1=\"286.663\" x2=\"375.054\" y2=\"280.218\" stroke-linecap=\"round\" style=\"stroke:red;stroke-width:1\" /><line x1=\"375.054\" y1=\"280.218\" x2=\"365.089\" y2=\"281.057\" stroke-linecap=\"round\" style=\"stroke:red;stroke-width:1\" /><line x1=\"365.089\" y1=\"281.057\" x2=\"358.635\" y2=\"288.695\" stroke-linecap=\"round\" style=\"stroke:red;stroke-width:1\" /><line x1=\"358.635\" y1=\"288.695\" x2=\"359.435\" y2=\"298.663\" stroke-linecap=\"round\" style=\"stroke:red;stroke-width:1\" /><line x1=\"359.435\" y1=\"298.663\" x2=\"366.974\" y2=\"305.233\" stroke-linecap=\"round\" style=\"stroke:red;stroke-width:1\" /><line x1=\"366.974\" y1=\"305.233\" x2=\"376.964\" y2=\"304.783\" stroke-linecap=\"round\" style=\"stroke:red;stroke-width:1\" /><line x1=\"376.964\" y1=\"304.783\" x2=\"383.997\" y2=\"297.674\" stroke-linecap=\"round\" style=\"stroke:red;stroke-width:1\" /><line x1=\"383.997\" y1=\"297.674\" x2=\"384.542\" y2=\"287.689\" stroke-linecap=\"round\" style=\"stroke:red;stroke-width:1\" /><line x1=\"384.542\" y1=\"287.689\" x2=\"378.514\" y2=\"279.71\" stroke-linecap=\"round\" style=\"stroke:red;stroke-width:1\" /><line x1=\"378.514\" y1=\"279.71\" x2=\"368.824\" y2=\"277.24\" stroke-linecap=\"round\" style=\"stroke:red;stroke-width:1\" /><line x1=\"368.824\" y1=\"277.24\" x2=\"359.59\" y2=\"281.078\" stroke-linecap=\"round\" style=\"stroke:red;stroke-width:1\" /><line x1=\"359.59\" y1=\"281.078\" x2=\"354.219\" y2=\"289.513\" stroke-linecap=\"round\" style=\"stroke:red;stroke-width:1\" /><line x1=\"354.219\" y1=\"289.513\" x2=\"354.286\" y2=\"299.513\" stroke-linecap=\"round\" style=\"stroke:red;stroke-width:1\" /><line x1=\"354.286\" y1=\"299.513\" x2=\"359.444\" y2=\"308.08\" stroke-linecap=\"round\" style=\"stroke:red;stroke-width:1\" /><line x1=\"359.444\" y1=\"308.08\" x2=\"368.052\" y2=\"313.17\" stroke-linecap=\"round\" style=\"stroke:red;stroke-width:1\" /><line x1=\"368.052\" y1=\"313.17\" x2=\"378.019\" y2=\"313.979\" stroke-linecap=\"round\" style=\"stroke:red;stroke-width:1\" /><line x1=\"378.019\" y1=\"313.979\" x2=\"387.482\" y2=\"310.745\" stroke-linecap=\"round\" style=\"stroke:red;stroke-width:1\" /><line x1=\"387.482\" y1=\"310.745\" x2=\"395.155\" y2=\"304.333\" stroke-linecap=\"round\" style=\"stroke:red;stroke-width:1\" /><line x1=\"395.155\" y1=\"304.333\" x2=\"400.394\" y2=\"295.815\" stroke-linecap=\"round\" style=\"stroke:red;stroke-width:1\" /><line x1=\"400.394\" y1=\"295.815\" x2=\"403.077\" y2=\"286.182\" stroke-linecap=\"round\" style=\"stroke:red;stroke-width:1\" /><line x1=\"403.077\" y1=\"286.182\" x2=\"403.421\" y2=\"276.188\" stroke-linecap=\"round\" style=\"stroke:red;stroke-width:1\" /><line x1=\"403.421\" y1=\"276.188\" x2=\"401.816\" y2=\"266.318\" stroke-linecap=\"round\" style=\"stroke:red;stroke-width:1\" /><line x1=\"401.816\" y1=\"266.318\" x2=\"398.7\" y2=\"256.816\" stroke-linecap=\"round\" style=\"stroke:red;stroke-width:1\" /><line x1=\"398.7\" y1=\"256.816\" x2=\"394.491\" y2=\"247.745\" stroke-linecap=\"round\" style=\"stroke:red;stroke-width:1\" /><line x1=\"394.491\" y1=\"247.745\" x2=\"389.555\" y2=\"239.048\" stroke-linecap=\"round\" style=\"stroke:red;stroke-width:1\" /><line x1=\"389.555\" y1=\"239.048\" x2=\"384.202\" y2=\"230.602\" stroke-linecap=\"round\" style=\"stroke:red;stroke-width:1\" /><line x1=\"384.202\" y1=\"230.602\" x2=\"378.693\" y2=\"222.257\" stroke-linecap=\"round\" style=\"stroke:red;stroke-width:1\" /><line x1=\"378.693\" y1=\"222.257\" x2=\"373.252\" y2=\"213.867\" stroke-linecap=\"round\" style=\"stroke:red;stroke-width:1\" /><line x1=\"373.252\" y1=\"213.867\" x2=\"368.078\" y2=\"205.31\" stroke-linecap=\"round\" style=\"stroke:red;stroke-width:1\" /><line x1=\"368.078\" y1=\"205.31\" x2=\"363.345\" y2=\"196.501\" stroke-linecap=\"round\" style=\"stroke:red;stroke-width:1\" /><line x1=\"363.345\" y1=\"196.501\" x2=\"359.206\" y2=\"187.398\" stroke-linecap=\"round\" style=\"stroke:red;stroke-width:1\" /><line x1=\"359.206\" y1=\"187.398\" x2=\"355.784\" y2=\"178.002\" stroke-linecap=\"round\" style=\"stroke:red;stroke-width:1\" /><line x1=\"355.784\" y1=\"178.002\" x2=\"353.168\" y2=\"168.35\" stroke-linecap=\"round\" style=\"stroke:red;stroke-width:1\" /><line x1=\"353.168\" y1=\"168.35\" x2=\"351.403\" y2=\"158.507\" stroke-linecap=\"round\" style=\"stroke:red;stroke-width:1\" /><line x1=\"351.403\" y1=\"158.507\" x2=\"350.486\" y2=\"148.549\" stroke-linecap=\"round\" style=\"stroke:red;stroke-width:1\" /><line x1=\"350.486\" y1=\"148.549\" x2=\"350.363\" y2=\"138.55\" stroke-linecap=\"round\" style=\"stroke:red;stroke-width:1\" /><line x1=\"350.363\" y1=\"138.55\" x2=\"350.932\" y2=\"128.566\" stroke-linecap=\"round\" style=\"stroke:red;stroke-width:1\" /><line x1=\"350.932\" y1=\"128.566\" x2=\"352.046\" y2=\"118.628\" stroke-linecap=\"round\" style=\"stroke:red;stroke-width:1\" /><line x1=\"352.046\" y1=\"118.628\" x2=\"353.52\" y2=\"108.737\" stroke-linecap=\"round\" style=\"stroke:red;stroke-width:1\" /><line x1=\"353.52\" y1=\"108.737\" x2=\"355.131\" y2=\"98.868\" stroke-linecap=\"round\" style=\"stroke:red;stroke-width:1\" /><line x1=\"355.131\" y1=\"98.868\" x2=\"356.622\" y2=\"88.98\" stroke-linecap=\"round\" style=\"stroke:red;stroke-width:1\" /><line x1=\"356.622\" y1=\"88.98\" x2=\"357.701\" y2=\"79.038\" stroke-linecap=\"round\" style=\"stroke:red;stroke-width:1\" /><line x1=\"357.701\" y1=\"79.038\" x2=\"358.043\" y2=\"69.044\" stroke-linecap=\"round\" style=\"stroke:red;stroke-width:1\" /><line x1=\"358.043\" y1=\"69.044\" x2=\"357.295\" y2=\"59.072\" stroke-linecap=\"round\" style=\"stroke:red;stroke-width:1\" /><line x1=\"357.295\" y1=\"59.072\" x2=\"355.097\" y2=\"49.316\" stroke-linecap=\"round\" style=\"stroke:red;stroke-width:1\" /><line x1=\"355.097\" y1=\"49.316\" x2=\"351.13\" y2=\"40.136\" stroke-linecap=\"round\" style=\"stroke:red;stroke-width:1\" /><line x1=\"351.13\" y1=\"40.136\" x2=\"345.195\" y2=\"32.088\" stroke-linecap=\"round\" style=\"stroke:red;stroke-width:1\" /><line x1=\"345.195\" y1=\"32.088\" x2=\"337.329\" y2=\"25.914\" stroke-linecap=\"round\" style=\"stroke:red;stroke-width:1\" /><line x1=\"337.329\" y1=\"25.914\" x2=\"327.943\" y2=\"22.464\" stroke-linecap=\"round\" style=\"stroke:red;stroke-width:1\" /><line x1=\"327.943\" y1=\"22.464\" x2=\"317.943\" y2=\"22.509\" stroke-linecap=\"round\" style=\"stroke:red;stroke-width:1\" /><line x1=\"317.943\" y1=\"22.509\" x2=\"308.751\" y2=\"26.448\" stroke-linecap=\"round\" style=\"stroke:red;stroke-width:1\" /><line x1=\"308.751\" y1=\"26.448\" x2=\"302.137\" y2=\"33.949\" stroke-linecap=\"round\" style=\"stroke:red;stroke-width:1\" /><line x1=\"302.137\" y1=\"33.949\" x2=\"299.787\" y2=\"43.669\" stroke-linecap=\"round\" style=\"stroke:red;stroke-width:1\" /><line x1=\"299.787\" y1=\"43.669\" x2=\"302.635\" y2=\"53.255\" stroke-linecap=\"round\" style=\"stroke:red;stroke-width:1\" /><line x1=\"302.635\" y1=\"53.255\" x2=\"310.173\" y2=\"59.826\" stroke-linecap=\"round\" style=\"stroke:red;stroke-width:1\" /><line x1=\"310.173\" y1=\"59.826\" x2=\"320.107\" y2=\"60.976\" stroke-linecap=\"round\" style=\"stroke:red;stroke-width:1\" /><line x1=\"320.107\" y1=\"60.976\" x2=\"328.781\" y2=\"56.0\" stroke-linecap=\"round\" style=\"stroke:red;stroke-width:1\" /><line x1=\"328.781\" y1=\"56.0\" x2=\"332.514\" y2=\"46.723\" stroke-linecap=\"round\" style=\"stroke:red;stroke-width:1\" /><line x1=\"332.514\" y1=\"46.723\" x2=\"329.435\" y2=\"37.209\" stroke-linecap=\"round\" style=\"stroke:red;stroke-width:1\" /><line x1=\"329.435\" y1=\"37.209\" x2=\"320.845\" y2=\"32.09\" stroke-linecap=\"round\" style=\"stroke:red;stroke-width:1\" /><line x1=\"320.845\" y1=\"32.09\" x2=\"311.052\" y2=\"34.115\" stroke-linecap=\"round\" style=\"stroke:red;stroke-width:1\" /><line x1=\"311.052\" y1=\"34.115\" x2=\"305.337\" y2=\"42.321\" stroke-linecap=\"round\" style=\"stroke:red;stroke-width:1\" /><line x1=\"305.337\" y1=\"42.321\" x2=\"306.961\" y2=\"52.188\" stroke-linecap=\"round\" style=\"stroke:red;stroke-width:1\" /><line x1=\"306.961\" y1=\"52.188\" x2=\"315.057\" y2=\"58.058\" stroke-linecap=\"round\" style=\"stroke:red;stroke-width:1\" /><line x1=\"315.057\" y1=\"58.058\" x2=\"324.933\" y2=\"56.491\" stroke-linecap=\"round\" style=\"stroke:red;stroke-width:1\" /><line x1=\"324.933\" y1=\"56.491\" x2=\"330.812\" y2=\"48.402\" stroke-linecap=\"round\" style=\"stroke:red;stroke-width:1\" /><line x1=\"330.812\" y1=\"48.402\" x2=\"329.296\" y2=\"38.518\" stroke-linecap=\"round\" style=\"stroke:red;stroke-width:1\" /><line x1=\"329.296\" y1=\"38.518\" x2=\"321.314\" y2=\"32.495\" stroke-linecap=\"round\" style=\"stroke:red;stroke-width:1\" /><line x1=\"321.314\" y1=\"32.495\" x2=\"311.378\" y2=\"33.622\" stroke-linecap=\"round\" style=\"stroke:red;stroke-width:1\" /><line x1=\"311.378\" y1=\"33.622\" x2=\"304.82\" y2=\"41.171\" stroke-linecap=\"round\" style=\"stroke:red;stroke-width:1\" /><line x1=\"304.82\" y1=\"41.171\" x2=\"304.885\" y2=\"51.171\" stroke-linecap=\"round\" style=\"stroke:red;stroke-width:1\" /><line x1=\"304.885\" y1=\"51.171\" x2=\"311.356\" y2=\"58.795\" stroke-linecap=\"round\" style=\"stroke:red;stroke-width:1\" /><line x1=\"311.356\" y1=\"58.795\" x2=\"321.161\" y2=\"60.76\" stroke-linecap=\"round\" style=\"stroke:red;stroke-width:1\" /><line x1=\"321.161\" y1=\"60.76\" x2=\"330.208\" y2=\"56.499\" stroke-linecap=\"round\" style=\"stroke:red;stroke-width:1\" /><line x1=\"330.208\" y1=\"56.499\" x2=\"335.234\" y2=\"47.854\" stroke-linecap=\"round\" style=\"stroke:red;stroke-width:1\" /><line x1=\"335.234\" y1=\"47.854\" x2=\"334.827\" y2=\"37.862\" stroke-linecap=\"round\" style=\"stroke:red;stroke-width:1\" /><line x1=\"334.827\" y1=\"37.862\" x2=\"329.437\" y2=\"29.439\" stroke-linecap=\"round\" style=\"stroke:red;stroke-width:1\" /><line x1=\"329.437\" y1=\"29.439\" x2=\"320.727\" y2=\"24.526\" stroke-linecap=\"round\" style=\"stroke:red;stroke-width:1\" /><line x1=\"320.727\" y1=\"24.526\" x2=\"310.75\" y2=\"23.85\" stroke-linecap=\"round\" style=\"stroke:red;stroke-width:1\" /><line x1=\"310.75\" y1=\"23.85\" x2=\"301.307\" y2=\"27.141\" stroke-linecap=\"round\" style=\"stroke:red;stroke-width:1\" /><line x1=\"301.307\" y1=\"27.141\" x2=\"293.625\" y2=\"33.544\" stroke-linecap=\"round\" style=\"stroke:red;stroke-width:1\" /><line x1=\"293.625\" y1=\"33.544\" x2=\"288.312\" y2=\"42.016\" stroke-linecap=\"round\" style=\"stroke:red;stroke-width:1\" /><line x1=\"288.312\" y1=\"42.016\" x2=\"285.477\" y2=\"51.606\" stroke-linecap=\"round\" style=\"stroke:red;stroke-width:1\" /><line x1=\"285.477\" y1=\"51.606\" x2=\"284.904\" y2=\"61.59\" stroke-linecap=\"round\" style=\"stroke:red;stroke-width:1\" /><line x1=\"284.904\" y1=\"61.59\" x2=\"286.215\" y2=\"71.504\" stroke-linecap=\"round\" style=\"stroke:red;stroke-width:1\" /><line x1=\"286.215\" y1=\"71.504\" x2=\"288.984\" y2=\"81.113\" stroke-linecap=\"round\" style=\"stroke:red;stroke-width:1\" /><line x1=\"288.984\" y1=\"81.113\" x2=\"292.803\" y2=\"90.355\" stroke-linecap=\"round\" style=\"stroke:red;stroke-width:1\" /><line x1=\"292.803\" y1=\"90.355\" x2=\"297.313\" y2=\"99.28\" stroke-linecap=\"round\" style=\"stroke:red;stroke-width:1\" /><line x1=\"297.313\" y1=\"99.28\" x2=\"302.206\" y2=\"108.001\" stroke-linecap=\"round\" style=\"stroke:red;stroke-width:1\" />\n",
              "        \n",
              "        \n",
              "        <g id=\"turtle\" visibility=\"visible\" transform=\"rotate(169.90885209965393,302.206,108.001) translate(302.206, 108.001)\">\n",
              "<path style=\"stroke:red;fill-rule:evenodd;fill:blue;fill-opacity:1;\" transform=\"skewX(0) scale(1,1)\" d=\"m 1.1536693,-18.56101 c -2.105469,1.167969 -3.203125,3.441407 -3.140625,6.5 l 0.011719,0.519532 -0.300782,-0.15625 c -1.308594,-0.671875 -2.828125,-0.824219 -4.378906,-0.429688 -1.9375,0.484375 -3.8906253,2.089844 -6.0117193,4.9257825 -1.332031,1.785156 -1.714843,2.644531 -1.351562,3.035156 l 0.113281,0.125 h 0.363281 c 0.71875,0 1.308594,-0.265625 4.6679693,-2.113282 1.199219,-0.660156 2.183594,-1.199218 2.191406,-1.199218 0.00781,0 -0.023437,0.089844 -0.074218,0.195312 -0.472657,1.058594 -1.046876,2.785156 -1.335938,4.042969 -1.054688,4.574219 -0.351562,8.453125 2.101562,11.582031 0.28125,0.355469 0.292969,0.253906 -0.097656,0.722656 -2.046875,2.4609375 -3.027344,4.8984375 -2.734375,6.8046875 0.050781,0.339844 0.042969,0.335938 0.679688,0.335938 2.023437,0 4.15625,-1.316407 6.21875,-3.835938 0.222656,-0.269531 0.191406,-0.261719 0.425781,-0.113281 0.730469,0.46875 2.460938,1.390625 2.613281,1.390625 0.160157,0 1.765625,-0.753906 2.652344,-1.246094 0.167969,-0.09375 0.308594,-0.164062 0.308594,-0.160156 0.066406,0.105468 0.761719,0.855468 1.085937,1.171875 1.613282,1.570312 3.339844,2.402343 5.3593747,2.570312 0.324219,0.02734 0.355469,0.0078 0.425781,-0.316406 0.375,-1.742187 -0.382812,-4.058594 -2.1445307,-6.5585935 l -0.320312,-0.457031 0.15625,-0.183594 c 3.2460927,-3.824218 3.4335927,-9.08593704 0.558593,-15.816406 l -0.050781,-0.125 1.7382807,0.859375 c 3.585938,1.773437 4.371094,2.097656 5.085938,2.097656 0.945312,0 0.75,-0.863281 -0.558594,-2.507812 C 11.458356,-11.838353 8.3333563,-13.268041 4.8607003,-11.721166 l -0.363281,0.164063 0.019531,-0.09375 c 0.121094,-0.550781 0.183594,-1.800781 0.121094,-2.378907 -0.203125,-1.867187 -1.035157,-3.199218 -2.695313,-4.308593 -0.523437,-0.351563 -0.546875,-0.355469 -0.789062,-0.222657\" />\n",
              "<animateTransform id = \"one\" attributeName=\"transform\" \n",
              "                      type=\"scale\"\n",
              "                      from=\"1 1\" to=\"1 1\"\n",
              "                      begin=\"0s\" dur=\"0.01s\"\n",
              "                      repeatCount=\"1\"\n",
              "                      additive=\"sum\"\n",
              "                      fill=\"freeze\"\n",
              "                /><animateTransform attributeName=\"transform\"\n",
              "                    type=\"rotate\"\n",
              "                    from=\"0 0 0\" to =\"-20 0 0\"\n",
              "                    begin=\"one.end\" dur=\"0.0011111111111111111s\"\n",
              "                    repeatCount=\"1\"\n",
              "                    additive=\"sum\"\n",
              "                    fill=\"freeze\"\n",
              "                /></g>\n",
              "      </svg>\n",
              "    "
            ],
            "text/plain": [
              "<IPython.core.display.HTML object>"
            ]
          },
          "metadata": {},
          "output_type": "display_data"
        }
      ],
      "source": [
        "### SETUP ###\n",
        "clearscreen()\n",
        "Sandbox = Screen()\n",
        "Jack = Turtle()\n",
        "Sandbox.bgcolor(10, 0, 40)\n",
        "Jack.shape(\"turtle\")\n",
        "Jack.color(\"red\", \"blue\")\n",
        "### END SETUP ###\n",
        "import math\n",
        "Jack.begin_fill()\n",
        "Jack.speed(20)\n",
        "for i in range(2000):\n",
        "    Jack.forward(10)\n",
        "    Jack.left(math.sin(i/10)*25)\n",
        "    Jack.left(20)\n",
        "Jack.end_fill()\n",
        "\n",
        "\n",
        "\n",
        "# Draw a square:\n"
      ]
    },
    {
      "cell_type": "markdown",
      "metadata": {},
      "source": [
        "Now try to modify the code above to draw the square using a function to avoid repeating as many identical lines of code.  Maybe define a function that combines the forward and turn steps.\n",
        "\n",
        "**Note**: If you know what they are, you might be tempted to use *loops* to make this simpler.  Hold that thought.  The goal of this activity is to use functions instead of loops."
      ]
    },
    {
      "cell_type": "markdown",
      "metadata": {},
      "source": [
        "### Recursion to the rescue\n",
        "\n",
        "Can we do even better?  A function tells Tracy what to do.  Can the function tell Tracy what to do next as well?  Try telling Tracy to walk, turn, and repeat."
      ]
    },
    {
      "cell_type": "code",
      "execution_count": 6,
      "metadata": {},
      "outputs": [
        {
          "data": {
            "text/html": [
              "\n",
              "      <svg width=\"800\" height=\"600\">  \n",
              "        <rect width=\"100%\" height=\"100%\" style=\"fill:rgb(10,20,0);stroke:;stroke-width:1\"/>\n",
              "        \n",
              "        \n",
              "        <line x1=\"400.0\" y1=\"300.0\" x2=\"500.0\" y2=\"300.0\" stroke-linecap=\"round\" style=\"stroke:orange;stroke-width:1\" />\n",
              "        \n",
              "        \n",
              "        <g id=\"turtle\" visibility=\"visible\" transform=\"rotate(90,500.0,300.0) translate(500.0, 300.0)\">\n",
              "<path style=\"stroke:orange;fill-rule:evenodd;fill:orange;fill-opacity:1;\" transform=\"skewX(0) scale(1,1)\" d=\"m 1.1536693,-18.56101 c -2.105469,1.167969 -3.203125,3.441407 -3.140625,6.5 l 0.011719,0.519532 -0.300782,-0.15625 c -1.308594,-0.671875 -2.828125,-0.824219 -4.378906,-0.429688 -1.9375,0.484375 -3.8906253,2.089844 -6.0117193,4.9257825 -1.332031,1.785156 -1.714843,2.644531 -1.351562,3.035156 l 0.113281,0.125 h 0.363281 c 0.71875,0 1.308594,-0.265625 4.6679693,-2.113282 1.199219,-0.660156 2.183594,-1.199218 2.191406,-1.199218 0.00781,0 -0.023437,0.089844 -0.074218,0.195312 -0.472657,1.058594 -1.046876,2.785156 -1.335938,4.042969 -1.054688,4.574219 -0.351562,8.453125 2.101562,11.582031 0.28125,0.355469 0.292969,0.253906 -0.097656,0.722656 -2.046875,2.4609375 -3.027344,4.8984375 -2.734375,6.8046875 0.050781,0.339844 0.042969,0.335938 0.679688,0.335938 2.023437,0 4.15625,-1.316407 6.21875,-3.835938 0.222656,-0.269531 0.191406,-0.261719 0.425781,-0.113281 0.730469,0.46875 2.460938,1.390625 2.613281,1.390625 0.160157,0 1.765625,-0.753906 2.652344,-1.246094 0.167969,-0.09375 0.308594,-0.164062 0.308594,-0.160156 0.066406,0.105468 0.761719,0.855468 1.085937,1.171875 1.613282,1.570312 3.339844,2.402343 5.3593747,2.570312 0.324219,0.02734 0.355469,0.0078 0.425781,-0.316406 0.375,-1.742187 -0.382812,-4.058594 -2.1445307,-6.5585935 l -0.320312,-0.457031 0.15625,-0.183594 c 3.2460927,-3.824218 3.4335927,-9.08593704 0.558593,-15.816406 l -0.050781,-0.125 1.7382807,0.859375 c 3.585938,1.773437 4.371094,2.097656 5.085938,2.097656 0.945312,0 0.75,-0.863281 -0.558594,-2.507812 C 11.458356,-11.838353 8.3333563,-13.268041 4.8607003,-11.721166 l -0.363281,0.164063 0.019531,-0.09375 c 0.121094,-0.550781 0.183594,-1.800781 0.121094,-2.378907 -0.203125,-1.867187 -1.035157,-3.199218 -2.695313,-4.308593 -0.523437,-0.351563 -0.546875,-0.355469 -0.789062,-0.222657\" />\n",
              "<animateTransform id = \"one\" attributeName=\"transform\" \n",
              "                      type=\"scale\"\n",
              "                      from=\"1 1\" to=\"1 1\"\n",
              "                      begin=\"0s\" dur=\"0.01s\"\n",
              "                      repeatCount=\"1\"\n",
              "                      additive=\"sum\"\n",
              "                      fill=\"freeze\"\n",
              "                /><animateTransform attributeName=\"transform\"\n",
              "                    type=\"rotate\"\n",
              "                    from=\"0 0 0\" to =\"-90 0 0\"\n",
              "                    begin=\"one.end\" dur=\"0.25s\"\n",
              "                    repeatCount=\"1\"\n",
              "                    additive=\"sum\"\n",
              "                    fill=\"freeze\"\n",
              "                /></g>\n",
              "      </svg>\n",
              "    "
            ],
            "text/plain": [
              "<IPython.core.display.HTML object>"
            ]
          },
          "metadata": {},
          "output_type": "display_data"
        }
      ],
      "source": [
        "### SETUP ###\n",
        "clearscreen()\n",
        "Sandbox = Screen()\n",
        "Tracy = Turtle()\n",
        "Sandbox.bgcolor(10, 20, 0)\n",
        "Tracy.shape(\"turtle\")\n",
        "Tracy.color(\"orange\")\n",
        "### END SETUP ###\n",
        "\n",
        "def walk_turn(dist, ang):\n",
        "  Tracy.forward(dist)\n",
        "  Tracy.left(ang)\n",
        "\n",
        "  #Fill in the function\n",
        "\n",
        "#Call the function\n",
        "walk_turn(100,90)"
      ]
    },
    {
      "cell_type": "markdown",
      "metadata": {},
      "source": [
        "### Polygons\n",
        "\n",
        "The code above should be able to draw shapes other than squares.  How could you tell it to draw an octagon?\n",
        "\n",
        "Actually, why don't we just write a function `polygon(sides, size)` that draws a polygon with `sides` sides each of size `size`:"
      ]
    },
    {
      "cell_type": "code",
      "execution_count": 7,
      "metadata": {},
      "outputs": [
        {
          "data": {
            "text/html": [
              "\n",
              "      <svg width=\"800\" height=\"600\">  \n",
              "        <rect width=\"100%\" height=\"100%\" style=\"fill:rgb(10,20,20);stroke:;stroke-width:1\"/>\n",
              "        \n",
              "        \n",
              "        <line x1=\"400.0\" y1=\"300.0\" x2=\"475.0\" y2=\"300.0\" stroke-linecap=\"round\" style=\"stroke:orange;stroke-width:1\" /><line x1=\"475.0\" y1=\"300.0\" x2=\"538.094\" y2=\"259.452\" stroke-linecap=\"round\" style=\"stroke:orange;stroke-width:1\" /><line x1=\"538.094\" y1=\"259.452\" x2=\"569.25\" y2=\"191.23\" stroke-linecap=\"round\" style=\"stroke:orange;stroke-width:1\" /><line x1=\"569.25\" y1=\"191.23\" x2=\"558.576\" y2=\"116.993\" stroke-linecap=\"round\" style=\"stroke:orange;stroke-width:1\" /><line x1=\"558.576\" y1=\"116.993\" x2=\"509.461\" y2=\"60.312\" stroke-linecap=\"round\" style=\"stroke:orange;stroke-width:1\" /><line x1=\"509.461\" y1=\"60.312\" x2=\"437.499\" y2=\"39.182\" stroke-linecap=\"round\" style=\"stroke:orange;stroke-width:1\" /><line x1=\"437.499\" y1=\"39.182\" x2=\"365.537\" y2=\"60.312\" stroke-linecap=\"round\" style=\"stroke:orange;stroke-width:1\" /><line x1=\"365.537\" y1=\"60.312\" x2=\"316.422\" y2=\"116.993\" stroke-linecap=\"round\" style=\"stroke:orange;stroke-width:1\" /><line x1=\"316.422\" y1=\"116.993\" x2=\"305.748\" y2=\"191.23\" stroke-linecap=\"round\" style=\"stroke:orange;stroke-width:1\" /><line x1=\"305.748\" y1=\"191.23\" x2=\"336.904\" y2=\"259.452\" stroke-linecap=\"round\" style=\"stroke:orange;stroke-width:1\" /><line x1=\"336.904\" y1=\"259.452\" x2=\"399.998\" y2=\"300.0\" stroke-linecap=\"round\" style=\"stroke:orange;stroke-width:1\" />\n",
              "        \n",
              "        \n",
              "        <g id=\"turtle\" visibility=\"visible\" transform=\"rotate(122.72727272727272,399.998,300.0) translate(399.998, 300.0)\">\n",
              "<path style=\"stroke:orange;fill-rule:evenodd;fill:orange;fill-opacity:1;\" transform=\"skewX(0) scale(1,1)\" d=\"m 1.1536693,-18.56101 c -2.105469,1.167969 -3.203125,3.441407 -3.140625,6.5 l 0.011719,0.519532 -0.300782,-0.15625 c -1.308594,-0.671875 -2.828125,-0.824219 -4.378906,-0.429688 -1.9375,0.484375 -3.8906253,2.089844 -6.0117193,4.9257825 -1.332031,1.785156 -1.714843,2.644531 -1.351562,3.035156 l 0.113281,0.125 h 0.363281 c 0.71875,0 1.308594,-0.265625 4.6679693,-2.113282 1.199219,-0.660156 2.183594,-1.199218 2.191406,-1.199218 0.00781,0 -0.023437,0.089844 -0.074218,0.195312 -0.472657,1.058594 -1.046876,2.785156 -1.335938,4.042969 -1.054688,4.574219 -0.351562,8.453125 2.101562,11.582031 0.28125,0.355469 0.292969,0.253906 -0.097656,0.722656 -2.046875,2.4609375 -3.027344,4.8984375 -2.734375,6.8046875 0.050781,0.339844 0.042969,0.335938 0.679688,0.335938 2.023437,0 4.15625,-1.316407 6.21875,-3.835938 0.222656,-0.269531 0.191406,-0.261719 0.425781,-0.113281 0.730469,0.46875 2.460938,1.390625 2.613281,1.390625 0.160157,0 1.765625,-0.753906 2.652344,-1.246094 0.167969,-0.09375 0.308594,-0.164062 0.308594,-0.160156 0.066406,0.105468 0.761719,0.855468 1.085937,1.171875 1.613282,1.570312 3.339844,2.402343 5.3593747,2.570312 0.324219,0.02734 0.355469,0.0078 0.425781,-0.316406 0.375,-1.742187 -0.382812,-4.058594 -2.1445307,-6.5585935 l -0.320312,-0.457031 0.15625,-0.183594 c 3.2460927,-3.824218 3.4335927,-9.08593704 0.558593,-15.816406 l -0.050781,-0.125 1.7382807,0.859375 c 3.585938,1.773437 4.371094,2.097656 5.085938,2.097656 0.945312,0 0.75,-0.863281 -0.558594,-2.507812 C 11.458356,-11.838353 8.3333563,-13.268041 4.8607003,-11.721166 l -0.363281,0.164063 0.019531,-0.09375 c 0.121094,-0.550781 0.183594,-1.800781 0.121094,-2.378907 -0.203125,-1.867187 -1.035157,-3.199218 -2.695313,-4.308593 -0.523437,-0.351563 -0.546875,-0.355469 -0.789062,-0.222657\" />\n",
              "<animateTransform id = \"one\" attributeName=\"transform\" \n",
              "                      type=\"scale\"\n",
              "                      from=\"1 1\" to=\"1 1\"\n",
              "                      begin=\"0s\" dur=\"0.01s\"\n",
              "                      repeatCount=\"1\"\n",
              "                      additive=\"sum\"\n",
              "                      fill=\"freeze\"\n",
              "                /><animateTransform attributeName=\"transform\"\n",
              "                    type=\"rotate\"\n",
              "                    from=\"0 0 0\" to =\"-32.72727272727273 0 0\"\n",
              "                    begin=\"one.end\" dur=\"0.09090909090909091s\"\n",
              "                    repeatCount=\"1\"\n",
              "                    additive=\"sum\"\n",
              "                    fill=\"freeze\"\n",
              "                /></g>\n",
              "      </svg>\n",
              "    "
            ],
            "text/plain": [
              "<IPython.core.display.HTML object>"
            ]
          },
          "metadata": {},
          "output_type": "display_data"
        }
      ],
      "source": [
        "### SETUP ###\n",
        "clearscreen()\n",
        "Sandbox = Screen()\n",
        "Tracy = Turtle()\n",
        "Sandbox.bgcolor(10, 20, 20)\n",
        "Tracy.shape(\"turtle\")\n",
        "Tracy.color(\"orange\")\n",
        "### END SETUP ###\n",
        "\n",
        "def polygon(sides, size, counter=1):\n",
        "  Tracy.forward(size)\n",
        "  Tracy.left(360/sides)\n",
        "  if counter < sides:\n",
        "      polygon(sides,size,counter+1)\n",
        "\n",
        "\n",
        "#Call the function\n",
        "polygon (11, 75)"
      ]
    },
    {
      "cell_type": "markdown",
      "metadata": {},
      "source": [
        "Just for fun, see what happens if you modify `sides` or `size` when you tell Tracy to \"repeat\".  Could you draw a cool spiral?"
      ]
    },
    {
      "cell_type": "code",
      "execution_count": 8,
      "metadata": {},
      "outputs": [
        {
          "data": {
            "text/html": [
              "\n",
              "      <svg width=\"800\" height=\"600\">  \n",
              "        <rect width=\"100%\" height=\"100%\" style=\"fill:rgb(30,10,0);stroke:;stroke-width:1\"/>\n",
              "        \n",
              "        \n",
              "        \n",
              "        \n",
              "        \n",
              "        <g id=\"turtle\" visibility=\"visible\" transform=\"rotate(90,400.0,300.0) translate(400.0, 300.0)\">\n",
              "<path style=\"stroke:orange;fill-rule:evenodd;fill:orange;fill-opacity:1;\" transform=\"skewX(0) scale(1,1)\" d=\"m 1.1536693,-18.56101 c -2.105469,1.167969 -3.203125,3.441407 -3.140625,6.5 l 0.011719,0.519532 -0.300782,-0.15625 c -1.308594,-0.671875 -2.828125,-0.824219 -4.378906,-0.429688 -1.9375,0.484375 -3.8906253,2.089844 -6.0117193,4.9257825 -1.332031,1.785156 -1.714843,2.644531 -1.351562,3.035156 l 0.113281,0.125 h 0.363281 c 0.71875,0 1.308594,-0.265625 4.6679693,-2.113282 1.199219,-0.660156 2.183594,-1.199218 2.191406,-1.199218 0.00781,0 -0.023437,0.089844 -0.074218,0.195312 -0.472657,1.058594 -1.046876,2.785156 -1.335938,4.042969 -1.054688,4.574219 -0.351562,8.453125 2.101562,11.582031 0.28125,0.355469 0.292969,0.253906 -0.097656,0.722656 -2.046875,2.4609375 -3.027344,4.8984375 -2.734375,6.8046875 0.050781,0.339844 0.042969,0.335938 0.679688,0.335938 2.023437,0 4.15625,-1.316407 6.21875,-3.835938 0.222656,-0.269531 0.191406,-0.261719 0.425781,-0.113281 0.730469,0.46875 2.460938,1.390625 2.613281,1.390625 0.160157,0 1.765625,-0.753906 2.652344,-1.246094 0.167969,-0.09375 0.308594,-0.164062 0.308594,-0.160156 0.066406,0.105468 0.761719,0.855468 1.085937,1.171875 1.613282,1.570312 3.339844,2.402343 5.3593747,2.570312 0.324219,0.02734 0.355469,0.0078 0.425781,-0.316406 0.375,-1.742187 -0.382812,-4.058594 -2.1445307,-6.5585935 l -0.320312,-0.457031 0.15625,-0.183594 c 3.2460927,-3.824218 3.4335927,-9.08593704 0.558593,-15.816406 l -0.050781,-0.125 1.7382807,0.859375 c 3.585938,1.773437 4.371094,2.097656 5.085938,2.097656 0.945312,0 0.75,-0.863281 -0.558594,-2.507812 C 11.458356,-11.838353 8.3333563,-13.268041 4.8607003,-11.721166 l -0.363281,0.164063 0.019531,-0.09375 c 0.121094,-0.550781 0.183594,-1.800781 0.121094,-2.378907 -0.203125,-1.867187 -1.035157,-3.199218 -2.695313,-4.308593 -0.523437,-0.351563 -0.546875,-0.355469 -0.789062,-0.222657\" />\n",
              "</g>\n",
              "      </svg>\n",
              "    "
            ],
            "text/plain": [
              "<IPython.core.display.HTML object>"
            ]
          },
          "metadata": {},
          "output_type": "display_data"
        }
      ],
      "source": [
        "### SETUP ###\n",
        "clearscreen()\n",
        "Sandbox = Screen()\n",
        "Tracy = Turtle()\n",
        "Sandbox.bgcolor(30, 10, 0)\n",
        "Tracy.shape(\"turtle\")\n",
        "Tracy.color(\"orange\")\n",
        "### END SETUP ###\n",
        "\n",
        "def spiral():\n",
        "  pass\n",
        "  #Fill in the function\n",
        "\n",
        "#Call the function\n",
        "spiral()"
      ]
    },
    {
      "cell_type": "markdown",
      "metadata": {},
      "source": [
        "### Fractals!\n",
        "\n",
        "Try executing the code below:"
      ]
    },
    {
      "cell_type": "code",
      "execution_count": 6,
      "metadata": {},
      "outputs": [
        {
          "data": {
            "text/html": [
              "\n",
              "      <svg width=\"800\" height=\"600\">  \n",
              "        <rect width=\"100%\" height=\"100%\" style=\"fill:rgb(14,81,53);stroke:;stroke-width:1\"/>\n",
              "        \n",
              "        \n",
              "        <line x1=\"400.0\" y1=\"300.0\" x2=\"400.0\" y2=\"300.0\" stroke-linecap=\"round\" style=\"stroke:rgb(212,206,70);stroke-width:1\" /><line x1=\"400.0\" y1=\"300.0\" x2=\"405.0\" y2=\"300.0\" stroke-linecap=\"round\" style=\"stroke:rgb(212,206,70);stroke-width:1\" /><line x1=\"405.0\" y1=\"300.0\" x2=\"396.91\" y2=\"305.878\" stroke-linecap=\"round\" style=\"stroke:rgb(212,206,70);stroke-width:1\" /><line x1=\"396.91\" y1=\"305.878\" x2=\"403.09\" y2=\"286.857\" stroke-linecap=\"round\" style=\"stroke:rgb(212,206,70);stroke-width:1\" /><line x1=\"403.09\" y1=\"286.857\" x2=\"415.451\" y2=\"324.899\" stroke-linecap=\"round\" style=\"stroke:rgb(212,206,70);stroke-width:1\" /><line x1=\"415.451\" y1=\"324.899\" x2=\"350.73\" y2=\"277.876\" stroke-linecap=\"round\" style=\"stroke:rgb(212,206,70);stroke-width:1\" /><line x1=\"350.73\" y1=\"277.876\" x2=\"510.73\" y2=\"277.876\" stroke-linecap=\"round\" style=\"stroke:rgb(212,206,70);stroke-width:1\" /><line x1=\"510.73\" y1=\"277.876\" x2=\"251.845\" y2=\"465.967\" stroke-linecap=\"round\" style=\"stroke:rgb(212,206,70);stroke-width:1\" /><line x1=\"251.845\" y1=\"465.967\" x2=\"449.616\" y2=\"-142.709\" stroke-linecap=\"round\" style=\"stroke:rgb(212,206,70);stroke-width:1\" /><line x1=\"449.616\" y1=\"-142.709\" x2=\"845.158\" y2=\"1074.643\" stroke-linecap=\"round\" style=\"stroke:rgb(212,206,70);stroke-width:1\" /><line x1=\"845.158\" y1=\"1074.643\" x2=\"-1225.926\" y2=\"-430.087\" stroke-linecap=\"round\" style=\"stroke:rgb(212,206,70);stroke-width:1\" />\n",
              "        \n",
              "        \n",
              "        <g id=\"turtle\" visibility=\"visible\" transform=\"rotate(306,-1225.926,-430.087) translate(-1225.926, -430.087)\">\n",
              "<path style=\"stroke:rgb(212,206,70);fill-rule:evenodd;fill:rgb(212,206,70);fill-opacity:1;\" transform=\"skewX(0) scale(1,1)\" d=\"m 1.1536693,-18.56101 c -2.105469,1.167969 -3.203125,3.441407 -3.140625,6.5 l 0.011719,0.519532 -0.300782,-0.15625 c -1.308594,-0.671875 -2.828125,-0.824219 -4.378906,-0.429688 -1.9375,0.484375 -3.8906253,2.089844 -6.0117193,4.9257825 -1.332031,1.785156 -1.714843,2.644531 -1.351562,3.035156 l 0.113281,0.125 h 0.363281 c 0.71875,0 1.308594,-0.265625 4.6679693,-2.113282 1.199219,-0.660156 2.183594,-1.199218 2.191406,-1.199218 0.00781,0 -0.023437,0.089844 -0.074218,0.195312 -0.472657,1.058594 -1.046876,2.785156 -1.335938,4.042969 -1.054688,4.574219 -0.351562,8.453125 2.101562,11.582031 0.28125,0.355469 0.292969,0.253906 -0.097656,0.722656 -2.046875,2.4609375 -3.027344,4.8984375 -2.734375,6.8046875 0.050781,0.339844 0.042969,0.335938 0.679688,0.335938 2.023437,0 4.15625,-1.316407 6.21875,-3.835938 0.222656,-0.269531 0.191406,-0.261719 0.425781,-0.113281 0.730469,0.46875 2.460938,1.390625 2.613281,1.390625 0.160157,0 1.765625,-0.753906 2.652344,-1.246094 0.167969,-0.09375 0.308594,-0.164062 0.308594,-0.160156 0.066406,0.105468 0.761719,0.855468 1.085937,1.171875 1.613282,1.570312 3.339844,2.402343 5.3593747,2.570312 0.324219,0.02734 0.355469,0.0078 0.425781,-0.316406 0.375,-1.742187 -0.382812,-4.058594 -2.1445307,-6.5585935 l -0.320312,-0.457031 0.15625,-0.183594 c 3.2460927,-3.824218 3.4335927,-9.08593704 0.558593,-15.816406 l -0.050781,-0.125 1.7382807,0.859375 c 3.585938,1.773437 4.371094,2.097656 5.085938,2.097656 0.945312,0 0.75,-0.863281 -0.558594,-2.507812 C 11.458356,-11.838353 8.3333563,-13.268041 4.8607003,-11.721166 l -0.363281,0.164063 0.019531,-0.09375 c 0.121094,-0.550781 0.183594,-1.800781 0.121094,-2.378907 -0.203125,-1.867187 -1.035157,-3.199218 -2.695313,-4.308593 -0.523437,-0.351563 -0.546875,-0.355469 -0.789062,-0.222657\" />\n",
              "<animateTransform id = \"one\" attributeName=\"transform\" \n",
              "                      type=\"scale\"\n",
              "                      from=\"1 1\" to=\"1 1\"\n",
              "                      begin=\"0s\" dur=\"0.01s\"\n",
              "                      repeatCount=\"1\"\n",
              "                      additive=\"sum\"\n",
              "                      fill=\"freeze\"\n",
              "                /><animateTransform attributeName=\"transform\"\n",
              "                    type=\"rotate\"\n",
              "                    from=\"0 0 0\" to =\"-216 0 0\"\n",
              "                    begin=\"one.end\" dur=\"0.012s\"\n",
              "                    repeatCount=\"1\"\n",
              "                    additive=\"sum\"\n",
              "                    fill=\"freeze\"\n",
              "                /></g>\n",
              "      </svg>\n",
              "    "
            ],
            "text/plain": [
              "<IPython.core.display.HTML object>"
            ]
          },
          "metadata": {},
          "output_type": "display_data"
        }
      ],
      "source": [
        "### SETUP ###\n",
        "clearscreen()\n",
        "Sandbox = Screen()\n",
        "Jack = Turtle()\n",
        "Sandbox.bgcolor(14, 81, 53)\n",
        "Jack.shape(\"turtle\")\n",
        "Jack.color(212, 206, 70)\n",
        "# END SETUP\n",
        "\n",
        "Jack.speed(50)\n",
        "Jack.goto(0.0, 0.0)\n",
        "\n",
        "def star(length, angle, counter=0):\n",
        "    if counter < 10:\n",
        "        Jack.forward(length)\n",
        "        Jack.left(angle)\n",
        "        star(length * 2 ,angle, counter + 1)\n",
        "        counter= counter+1\n",
        "    else:\n",
        "        return\n",
        "\n",
        "star(5, 216)\n",
        "\n",
        "\n",
        "\n",
        "\n",
        "\n",
        "\n",
        "\n",
        "\n",
        "# Tracy.speed(100)\n",
        "# def triangle(sidelength, sidecount=0):\n",
        "#   if sidecount < 3:\n",
        "#     Tracy.pendown()\n",
        "#     Tracy.forward(sidelength)\n",
        "#     Tracy.left(120)\n",
        "#     triangle(sidelength, sidecount+1)\n",
        "\n",
        "# def triforce(size,depth,counter=0):\n",
        "#   if counter < depth:\n",
        "#     triforce(size/2, depth, counter+1)\n",
        "#     Tracy.penup()\n",
        "#     Tracy.forward(size*2)\n",
        "#     Tracy.left(120)\n",
        "#     triforce(size/2, depth, counter+1)\n",
        "#     Tracy.penup()\n",
        "#     Tracy.forward(size*2)\n",
        "#     Tracy.left(120)\n",
        "#     triforce(size/2, depth, counter+1)\n",
        "#     Tracy.penup()\n",
        "#     Tracy.forward(size*2)\n",
        "#     Tracy.left(120)\n",
        "#   else:\n",
        "#     triangle(size*2)\n",
        "\n",
        "\n",
        "# #change start position to center image\n",
        "# Tracy.penup()\n",
        "# Tracy.goto(-150,-100)\n",
        "# triforce(150,3)"
      ]
    },
    {
      "cell_type": "markdown",
      "metadata": {},
      "source": [
        "Part of what makes the code above complicated is that we are calling the function recursively three times inside itself. To see what is going on better, let's look at one that only calls itself once each time through."
      ]
    },
    {
      "cell_type": "code",
      "execution_count": 8,
      "metadata": {},
      "outputs": [
        {
          "data": {
            "text/html": [
              "\n",
              "      <svg width=\"800\" height=\"600\">  \n",
              "        <rect width=\"100%\" height=\"100%\" style=\"fill:rgb(30,10,0);stroke:;stroke-width:1\"/>\n",
              "        \n",
              "        \n",
              "        <path fill-rule=\"evenodd\" fill-opacity=\"1\" d=\"M 400.0 300.0  L 400.0 300.0  L 700.0 300.0  L 404.558 247.906  L 686.466 350.512  L 426.658 200.512  L 656.471 393.348  L 463.635 163.535  L 613.635 423.343  L 511.029 141.435  L 563.123 436.877  L 563.123 136.877  L 511.029 432.319  L 613.635 150.411  L 463.635 410.219  L 656.471 180.406  L 426.658 373.242  L 686.466 223.242  L 404.558 325.848  L 700.0 273.754  L 400.0 273.754  L 695.442 325.848  L 413.534 223.242  L 673.342 373.242  L 443.529 180.406  L 636.365 410.219  L 486.365 150.411  L 588.971 432.319  L 536.877 136.877  L 536.877 436.877  L 588.971 141.435  L 486.365 423.343  L 636.365 163.535  L 443.529 393.348  L 673.342 200.512  L 413.534 350.512  L 695.442 247.906  L 400.0 300.0 \" stroke-linecap=\"round\" style=\"stroke:blue;stroke-width:1\" fill=\"purple\" /><path fill-rule=\"evenodd\" fill-opacity=\"1\" d=\"M 400.0 300.0  L 400.0 300.0  L 100.0 300.0  L 395.442 247.906  L 113.534 350.512  L 373.342 200.512  L 143.529 393.348  L 336.365 163.535  L 186.365 423.343  L 288.971 141.435  L 236.877 436.877  L 236.877 136.877  L 288.971 432.319  L 186.365 150.411  L 336.365 410.219  L 143.529 180.406  L 373.342 373.242  L 113.534 223.242  L 395.442 325.848  L 100.0 273.754  L 400.0 273.754  L 104.558 325.848  L 386.466 223.242  L 126.658 373.242  L 356.471 180.406  L 163.635 410.219  L 313.635 150.411  L 211.029 432.319  L 263.123 136.877  L 263.123 436.877  L 211.029 141.435  L 313.635 423.343  L 163.635 163.535  L 356.471 393.348  L 126.658 200.512  L 386.466 350.512  L 104.558 247.906  L 400.0 300.0 \" stroke-linecap=\"round\" style=\"stroke:red;stroke-width:1\" fill=\"green\" />\n",
              "        \n",
              "        \n",
              "        <g id=\"turtle\" visibility=\"visible\" transform=\"rotate(90,400.0,300.0) translate(400.0, 300.0)\">\n",
              "<path style=\"stroke:red;fill-rule:evenodd;fill:green;fill-opacity:1;\" transform=\"skewX(0) scale(1,1)\" d=\"m 1.1536693,-18.56101 c -2.105469,1.167969 -3.203125,3.441407 -3.140625,6.5 l 0.011719,0.519532 -0.300782,-0.15625 c -1.308594,-0.671875 -2.828125,-0.824219 -4.378906,-0.429688 -1.9375,0.484375 -3.8906253,2.089844 -6.0117193,4.9257825 -1.332031,1.785156 -1.714843,2.644531 -1.351562,3.035156 l 0.113281,0.125 h 0.363281 c 0.71875,0 1.308594,-0.265625 4.6679693,-2.113282 1.199219,-0.660156 2.183594,-1.199218 2.191406,-1.199218 0.00781,0 -0.023437,0.089844 -0.074218,0.195312 -0.472657,1.058594 -1.046876,2.785156 -1.335938,4.042969 -1.054688,4.574219 -0.351562,8.453125 2.101562,11.582031 0.28125,0.355469 0.292969,0.253906 -0.097656,0.722656 -2.046875,2.4609375 -3.027344,4.8984375 -2.734375,6.8046875 0.050781,0.339844 0.042969,0.335938 0.679688,0.335938 2.023437,0 4.15625,-1.316407 6.21875,-3.835938 0.222656,-0.269531 0.191406,-0.261719 0.425781,-0.113281 0.730469,0.46875 2.460938,1.390625 2.613281,1.390625 0.160157,0 1.765625,-0.753906 2.652344,-1.246094 0.167969,-0.09375 0.308594,-0.164062 0.308594,-0.160156 0.066406,0.105468 0.761719,0.855468 1.085937,1.171875 1.613282,1.570312 3.339844,2.402343 5.3593747,2.570312 0.324219,0.02734 0.355469,0.0078 0.425781,-0.316406 0.375,-1.742187 -0.382812,-4.058594 -2.1445307,-6.5585935 l -0.320312,-0.457031 0.15625,-0.183594 c 3.2460927,-3.824218 3.4335927,-9.08593704 0.558593,-15.816406 l -0.050781,-0.125 1.7382807,0.859375 c 3.585938,1.773437 4.371094,2.097656 5.085938,2.097656 0.945312,0 0.75,-0.863281 -0.558594,-2.507812 C 11.458356,-11.838353 8.3333563,-13.268041 4.8607003,-11.721166 l -0.363281,0.164063 0.019531,-0.09375 c 0.121094,-0.550781 0.183594,-1.800781 0.121094,-2.378907 -0.203125,-1.867187 -1.035157,-3.199218 -2.695313,-4.308593 -0.523437,-0.351563 -0.546875,-0.355469 -0.789062,-0.222657\" />\n",
              "</g>\n",
              "      </svg>\n",
              "    "
            ],
            "text/plain": [
              "<IPython.core.display.HTML object>"
            ]
          },
          "metadata": {},
          "output_type": "display_data"
        }
      ],
      "source": [
        "### SETUP ###\n",
        "clearscreen()\n",
        "Sandbox = Screen()\n",
        "Jack = Turtle()\n",
        "Sandbox.bgcolor(30, 10, 0)\n",
        "Jack.shape(\"turtle\")\n",
        "### END SETUP ###\n",
        "Jack.speed(30)\n",
        "Jack.penup()\n",
        "Jack.goto(0.0,0.0)\n",
        "Jack.pendown()\n",
        "def shape(length, width, counter=0):\n",
        "    if counter<36:\n",
        "        Jack.color(\"blue\",\"purple\")\n",
        "        shape(length,width,counter+1)\n",
        "        Jack.forward(length)\n",
        "        Jack.left(width)\n",
        "        counter=counter+1\n",
        "    else:\n",
        "        Jack.goto(0.0,0.0)\n",
        "def star(length,width,counter=0):\n",
        "    if counter<36:\n",
        "        Jack.color(\"red\",\"green\")\n",
        "        star(length,width,counter+1)\n",
        "        Jack.forward(length)\n",
        "        Jack.left(width)\n",
        "        counter=counter+1\n",
        "    else:\n",
        "        Jack.goto(0.0,0.0)\n",
        "Jack.begin_fill()\n",
        "shape(300,170)\n",
        "Jack.end_fill()\n",
        "Jack.begin_fill()\n",
        "star(-300,-170)\n",
        "Jack.end_fill()"
      ]
    },
    {
      "cell_type": "markdown",
      "metadata": {},
      "source": [
        "## What's next?  \n",
        "\n",
        "Let's add a little color.  Can we write a function that colors the sides of a polygon with three colors, repeating in sequence?  How can we control that?"
      ]
    }
  ],
  "metadata": {
    "colab": {
      "include_colab_link": true,
      "provenance": []
    },
    "kernelspec": {
      "display_name": "Python 3",
      "name": "python3"
    },
    "language_info": {
      "codemirror_mode": {
        "name": "ipython",
        "version": 3
      },
      "file_extension": ".py",
      "mimetype": "text/x-python",
      "name": "python",
      "nbconvert_exporter": "python",
      "pygments_lexer": "ipython3",
      "version": "3.10.8"
    }
  },
  "nbformat": 4,
  "nbformat_minor": 0
}
